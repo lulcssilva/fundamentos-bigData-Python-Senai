{
 "cells": [
  {
   "cell_type": "markdown",
   "metadata": {},
   "source": [
    "## Listas - array"
   ]
  },
  {
   "cell_type": "code",
   "execution_count": 20,
   "metadata": {},
   "outputs": [
    {
     "name": "stdout",
     "output_type": "stream",
     "text": [
      "Ana\n",
      "8\n"
     ]
    }
   ],
   "source": [
    "alunos = ['Ana','Amanda','Bruno','João']\n",
    "notas = [10,9,8,7]\n",
    "\n",
    "# Exibir o primeiro nome da lista alunos\n",
    "print(alunos[0])\n",
    "\n",
    "# Exibir a terceira a nota da lista notas\n",
    "print(notas[2])"
   ]
  },
  {
   "cell_type": "markdown",
   "metadata": {},
   "source": [
    "## Listas(list) - Acessando itens"
   ]
  },
  {
   "cell_type": "code",
   "execution_count": 17,
   "metadata": {},
   "outputs": [
    {
     "data": {
      "text/plain": [
       "['Bruno', 'João']"
      ]
     },
     "execution_count": 17,
     "metadata": {},
     "output_type": "execute_result"
    }
   ],
   "source": [
    "# Selecionar uma fatia dos dados (Amanda e Bruno)\n",
    "# Lista [posição_inicial : posição_final +1]\n",
    "\n",
    "alunos[1:3]\n",
    "\n",
    "# Selecionar apenas os nomes Bruno e João\n",
    "alunos[2:]\n"
   ]
  },
  {
   "cell_type": "markdown",
   "metadata": {},
   "source": [
    "# identificando o tipo de informação"
   ]
  },
  {
   "cell_type": "code",
   "execution_count": 22,
   "metadata": {},
   "outputs": [
    {
     "data": {
      "text/plain": [
       "list"
      ]
     },
     "execution_count": 22,
     "metadata": {},
     "output_type": "execute_result"
    }
   ],
   "source": [
    "type(notas)"
   ]
  },
  {
   "cell_type": "code",
   "execution_count": 21,
   "metadata": {},
   "outputs": [
    {
     "data": {
      "text/plain": [
       "int"
      ]
     },
     "execution_count": 21,
     "metadata": {},
     "output_type": "execute_result"
    }
   ],
   "source": [
    "type(notas[0])"
   ]
  },
  {
   "cell_type": "markdown",
   "metadata": {},
   "source": [
    "## Lista(list) - Conversão para String\n",
    "\n",
    "#### para converter uma lista em STRING, nós utilizamos o comando JOIN"
   ]
  },
  {
   "cell_type": "code",
   "execution_count": 24,
   "metadata": {},
   "outputs": [
    {
     "name": "stdout",
     "output_type": "stream",
     "text": [
      "Batata;Óleo;Margarina;Café\n",
      "<class 'str'>\n"
     ]
    }
   ],
   "source": [
    "supermercado = ['Batata','Óleo','Margarina','Café']\n",
    "\n",
    "listaConvertida = ';'.join(supermercado)\n",
    "print(listaConvertida)\n",
    "print(type(listaConvertida))"
   ]
  },
  {
   "cell_type": "markdown",
   "metadata": {},
   "source": [
    "#### Convertendo String para lista\n"
   ]
  },
  {
   "cell_type": "code",
   "execution_count": 25,
   "metadata": {},
   "outputs": [
    {
     "name": "stdout",
     "output_type": "stream",
     "text": [
      "['Batata', 'Óleo', 'Margarina', 'Café']\n",
      "<class 'list'>\n"
     ]
    }
   ],
   "source": [
    "lista = listaConvertida.split(';')\n",
    "print(lista)\n",
    "print(type(lista))"
   ]
  },
  {
   "cell_type": "markdown",
   "metadata": {},
   "source": [
    "## TUPLAS(Tuple)\n",
    "- criamos utilizando parênteses\n",
    "- Separamos os elementos por vírgula\n",
    "- Após sua definição, não podemos alterar sua estrutura"
   ]
  },
  {
   "cell_type": "code",
   "execution_count": 31,
   "metadata": {},
   "outputs": [
    {
     "name": "stdout",
     "output_type": "stream",
     "text": [
      "<class 'tuple'>\n",
      "<class 'tuple'>\n"
     ]
    }
   ],
   "source": [
    "valores = (90, 79, 54, 32, 21)\n",
    "pontos = (100, 94.05, 86.08, 62)\n",
    "\n",
    "print(type(valores))\n",
    "print(type(pontos))"
   ]
  },
  {
   "cell_type": "code",
   "execution_count": 33,
   "metadata": {},
   "outputs": [
    {
     "ename": "TypeError",
     "evalue": "'tuple' object does not support item assignment",
     "output_type": "error",
     "traceback": [
      "\u001b[1;31m---------------------------------------------------------------------------\u001b[0m",
      "\u001b[1;31mTypeError\u001b[0m                                 Traceback (most recent call last)",
      "\u001b[1;32mc:\\Users\\FIC\\Documents\\luana-cristina-python\\aula04 listas-tuplas-dicionarios.ipynb Cell 14\u001b[0m line \u001b[0;36m1\n\u001b[1;32m----> <a href='vscode-notebook-cell:/c%3A/Users/FIC/Documents/luana-cristina-python/aula04%20listas-tuplas-dicionarios.ipynb#X23sZmlsZQ%3D%3D?line=0'>1</a>\u001b[0m valores[\u001b[39m0\u001b[39;49m] \u001b[39m=\u001b[39m \u001b[39m30\u001b[39m\n",
      "\u001b[1;31mTypeError\u001b[0m: 'tuple' object does not support item assignment"
     ]
    }
   ],
   "source": [
    "valores[0] = 30"
   ]
  },
  {
   "cell_type": "markdown",
   "metadata": {},
   "source": [
    "## Tuplas(tuple) - Outros exemplos"
   ]
  },
  {
   "cell_type": "code",
   "execution_count": 39,
   "metadata": {},
   "outputs": [
    {
     "name": "stdout",
     "output_type": "stream",
     "text": [
      "[10, 2]\n",
      "não é possível modificar uma tupla\n"
     ]
    }
   ],
   "source": [
    "my_list = [1,2] #criando uma lista []\n",
    "\n",
    "my_tuple = (1,2) #criando uma tupla()\n",
    "\n",
    "#Alterando o elemento de posição 1 da lista\n",
    "#Listas permitem alteração\n",
    "my_list[0]=10\n",
    "print(my_list) \n",
    "\n",
    "#Alterar um elemento de uma tupla\n",
    "try:\n",
    "    my_tuple[1] = 3\n",
    "except TypeError:\n",
    "    print('não é possível modificar uma tupla')"
   ]
  },
  {
   "cell_type": "markdown",
   "metadata": {},
   "source": [
    "## Criando uma função com tuplas"
   ]
  },
  {
   "cell_type": "code",
   "execution_count": 40,
   "metadata": {},
   "outputs": [],
   "source": [
    "def sum_and_product (x, y):\n",
    "    \n",
    "    return (x + y), (x * y)"
   ]
  },
  {
   "cell_type": "code",
   "execution_count": 44,
   "metadata": {},
   "outputs": [
    {
     "data": {
      "text/plain": [
       "(15, 50)"
      ]
     },
     "execution_count": 44,
     "metadata": {},
     "output_type": "execute_result"
    }
   ],
   "source": [
    "sum_and_product(10,5)\n"
   ]
  },
  {
   "cell_type": "markdown",
   "metadata": {},
   "source": [
    "## Dicionários(dict)\n",
    "Dict é um tipo de dado muito flexível do Python. Eles são utilizados para agrupar elementos através da estrutura de chave e valor, onde a chave é o primeiro elemento seguido por dois pontos e pelo valor. Vamos ver o exemplo:"
   ]
  },
  {
   "cell_type": "code",
   "execution_count": 45,
   "metadata": {},
   "outputs": [
    {
     "name": "stdout",
     "output_type": "stream",
     "text": [
      "<class 'dict'>\n",
      "<class 'dict'>\n"
     ]
    }
   ],
   "source": [
    "altura ={\n",
    "    'Amanda': 1.65,\n",
    "    'Ana':1.60,\n",
    "    'João':1.50,\n",
    "}\n",
    "\n",
    "peso = {\n",
    "    'Amanda':60,\n",
    "    'Ana':58,\n",
    "    'João':100\n",
    "}\n",
    "\n",
    "print(type(altura))\n",
    "print(type(peso))"
   ]
  },
  {
   "cell_type": "code",
   "execution_count": 46,
   "metadata": {},
   "outputs": [
    {
     "name": "stdout",
     "output_type": "stream",
     "text": [
      "1.6\n",
      "58\n"
     ]
    }
   ],
   "source": [
    "#acessar informações do dicionário\n",
    "print(altura['Ana'])\n",
    "print(peso['Ana'])"
   ]
  }
 ],
 "metadata": {
  "kernelspec": {
   "display_name": "Python 3",
   "language": "python",
   "name": "python3"
  },
  "language_info": {
   "codemirror_mode": {
    "name": "ipython",
    "version": 3
   },
   "file_extension": ".py",
   "mimetype": "text/x-python",
   "name": "python",
   "nbconvert_exporter": "python",
   "pygments_lexer": "ipython3",
   "version": "3.11.0"
  }
 },
 "nbformat": 4,
 "nbformat_minor": 2
}
