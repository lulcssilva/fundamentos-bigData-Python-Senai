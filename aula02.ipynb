{
 "cells": [
  {
   "cell_type": "markdown",
   "metadata": {},
   "source": [
    "# palavras reservadas"
   ]
  },
  {
   "cell_type": "code",
   "execution_count": 1,
   "metadata": {},
   "outputs": [
    {
     "name": "stdout",
     "output_type": "stream",
     "text": [
      "['False', 'None', 'True', 'and', 'as', 'assert', 'async', 'await', 'break', 'class', 'continue', 'def', 'del', 'elif', 'else', 'except', 'finally', 'for', 'from', 'global', 'if', 'import', 'in', 'is', 'lambda', 'nonlocal', 'not', 'or', 'pass', 'raise', 'return', 'try', 'while', 'with', 'yield']\n"
     ]
    }
   ],
   "source": [
    "import keyword\n",
    "print(keyword.kwlist)\n"
   ]
  },
  {
   "cell_type": "markdown",
   "metadata": {},
   "source": [
    "## Exercício 02 \n",
    "Crie um programa para receber dois valores e em seguida, exiba o valor\n",
    "da diferença entre eles."
   ]
  },
  {
   "cell_type": "code",
   "execution_count": 2,
   "metadata": {},
   "outputs": [
    {
     "name": "stdout",
     "output_type": "stream",
     "text": [
      "a subtração do numero 5.0 - 2.0 = 3.0\n"
     ]
    }
   ],
   "source": [
    "num1 = input(\"digite um número\")\n",
    "num1 = float(num1)\n",
    "num2 = input(\"digite outro número\")\n",
    "num2 = float(num2)\n",
    "dif = num1-num2\n",
    "print (f\"a subtração do numero {num1} - {num2} = {dif}\")\n"
   ]
  },
  {
   "cell_type": "markdown",
   "metadata": {},
   "source": [
    "## Exercício 03 \n",
    "\n",
    "Crie um programa para receber dois valores e em seguida, exiba o\n",
    "produto entre eles."
   ]
  },
  {
   "cell_type": "code",
   "execution_count": 3,
   "metadata": {},
   "outputs": [
    {
     "name": "stdout",
     "output_type": "stream",
     "text": [
      "o produto de 2.0*5.0=10.0\n"
     ]
    }
   ],
   "source": [
    "num1 = input(\"digite o primeiro número\")\n",
    "num2 = input(\"digite o segundo número\")\n",
    "num1 = float(num1)\n",
    "num2 = float(num2)\n",
    "prod = num1*num2\n",
    "print(f\"o produto de {num1}*{num2}={prod}\")"
   ]
  },
  {
   "cell_type": "code",
   "execution_count": null,
   "metadata": {},
   "outputs": [],
   "source": [
    "#Verificando o tipo de dados\n",
    "print(type(num1))\n",
    "print(type(num2))\n",
    "\n",
    "#convertendo os valores em DECIMAIS\n",
    "num1 = float(num1)\n",
    "num2 = float(num2)"
   ]
  },
  {
   "cell_type": "markdown",
   "metadata": {},
   "source": [
    "## Exercício 04 \n",
    "Crie um programa para receber dois valores e em seguida, exiba o\n",
    "quociente entre eles."
   ]
  },
  {
   "cell_type": "code",
   "execution_count": 5,
   "metadata": {},
   "outputs": [
    {
     "name": "stdout",
     "output_type": "stream",
     "text": [
      "o quociente da divisão 10.0/5.0 = 2.0\n"
     ]
    }
   ],
   "source": [
    "num1 = input(\"digite o primeiro valor\")\n",
    "num2 = input(\"digite o segundo valor\")\n",
    "num1 = float(num1)\n",
    "num2 = float(num2)\n",
    "dif = num1/num2\n",
    "print(f\"O quociente da divisão {num1}/{num2} = {dif}\")"
   ]
  },
  {
   "cell_type": "markdown",
   "metadata": {},
   "source": [
    "## Exercício 16 \n",
    "Faça um Programa que peça 2 números inteiros e um número real.\n",
    "Calcule e mostre:\n",
    "\n",
    "a) o produto do dobro do primeiro com metade do segundo.\n",
    "\n",
    "b) a soma do triplo do primeiro com o terceiro.\n",
    "\n",
    "c) o terceiro elevado ao cubo."
   ]
  },
  {
   "cell_type": "code",
   "execution_count": 9,
   "metadata": {},
   "outputs": [
    {
     "name": "stdout",
     "output_type": "stream",
     "text": [
      "alternativa A: 9.0\n",
      "alternativa B: 12.0\n",
      "alternativa C: 27.0\n"
     ]
    }
   ],
   "source": [
    "# recebendo valores e convertendo\n",
    "num1 = int(input(\"digite o primeiro número inteiro\"))\n",
    "num2 = int(input(\"digite o segundo número inteiro\"))\n",
    "num3 = float(input(\"digite o terceiro número real\"))\n",
    "\n",
    "#calculando o produto do dobro do primeiro com a metade do segundo\n",
    "questaoA = (num1*2) * (num2/2)\n",
    "print(\"alternativa A:\", questaoA)\n",
    "\n",
    "#calculando a soma do triplo do primeiro com o terceiro\n",
    "questaoB = (num1*3)+(num3)\n",
    "print(\"alternativa B:\", questaoB)\n",
    "\n",
    "# terceiro numero ao cubo\n",
    "questaoC= (num3**3)\n",
    "print(\"alternativa C:\", questaoC)"
   ]
  },
  {
   "cell_type": "markdown",
   "metadata": {},
   "source": [
    "### Exercício 17 \n",
    "\n",
    " João Papo-de-Pescador, homem de bem, comprou um microcomputador\n",
    "para controlar o rendimento diário de seu trabalho. Toda vez que ele traz um peso de\n",
    "peixes maior que o estabelecido pelo regulamento de pesca do estado de São Paulo\n",
    "(50 quilos) deve pagar uma multa de R$ 4,00 por quilo excedente. João precisa que\n",
    "você faça um programa que leia a variável peso (peso de peixes) e calcule o excesso.\n",
    "\n",
    "\n",
    "Gravar na variável excesso a quantidade de quilos além do limite e na variável multa o\n",
    "valor da multa que João deverá pagar. Imprima os dados do programa com as\n",
    "mensagens adequadas."
   ]
  },
  {
   "cell_type": "code",
   "execution_count": 22,
   "metadata": {},
   "outputs": [
    {
     "name": "stdout",
     "output_type": "stream",
     "text": [
      "O peso é de: 5.0 o excedente é de: -45.0  e o valor da multa é: -180.0 reais\n"
     ]
    }
   ],
   "source": [
    "peso = float (input(\"digite o valor em kg total do peixe\"))\n",
    "regulamentado = 50\n",
    "multa = 4\n",
    "excesso = peso - regulamentado\n",
    "conta = excesso *4\n",
    "\n",
    "print(\"O peso é de:\",peso,\"o excedente é de:\", excesso,\" e o valor da multa é:\", conta, \"reais\")"
   ]
  },
  {
   "cell_type": "markdown",
   "metadata": {},
   "source": [
    "## Exercício 18 \n",
    "Faça um Programa que pergunte quanto você ganha por hora e o número\n",
    "de horas trabalhadas no mês. Calcule e mostre o total do seu salário no referido mês,\n",
    "sabendo-se que são descontados 11% para o Imposto de Renda, 8% para o INSS e 5%\n",
    "para o sindicato, faça um programa que nos dê:\n",
    "a) salário bruto.\n",
    "b) quanto pagou ao INSS.\n",
    "c) quanto pagou ao sindicato.\n",
    "d) o salário líquido.\n",
    "e) calcule os descontos e o salário líquido, conforme a tabela abaixo:\n",
    "+ Salário Bruto : R$\n",
    "- IR (11%) : R$\n",
    "- INSS (8%) : R$\n",
    "- Sindicato ( 5%) : R$\n",
    "= Salário Liquido : R$"
   ]
  },
  {
   "cell_type": "code",
   "execution_count": 24,
   "metadata": {},
   "outputs": [
    {
     "name": "stdout",
     "output_type": "stream",
     "text": [
      "+ Salário bruto: R$ 1050.0\n",
      " - IR (11%): R$115.5\n",
      " - INSS(8%):R$: 84.0\n",
      " - Sindicato (5%):R$52.5\n",
      " = Salário liquido: R$798.0\n"
     ]
    }
   ],
   "source": [
    "valorHora = float(input(\"digite o quanto você ganha por hora no trabalho\"))\n",
    "horasTrabalhadas = int(input(\"Digite quantas horas você trabalha no mês\"))\n",
    "\n",
    "#Calculando o salário bruto\n",
    "salarioBruto = valorHora * horasTrabalhadas\n",
    "\n",
    "#Aliquotas de desconto\n",
    "per_ir = 0.11\n",
    "per_inss = 0.08\n",
    "per_sindicato = 0.05\n",
    "\n",
    "#calcular o valor dos descontos\n",
    "valor_ir = salarioBruto * per_ir\n",
    "valor_inss = salarioBruto * per_inss\n",
    "valor_sindicato = salarioBruto * per_sindicato\n",
    "\n",
    "#Calcular o salario liquido\n",
    "salario_liquido = salarioBruto - valor_inss - valor_ir - valor_sindicato\n",
    "\n",
    "print(f\"+ Salário bruto: R$ {salarioBruto}\")\n",
    "print(f\" - IR (11%): R${valor_ir}\")\n",
    "print(f\" - INSS(8%):R$: {valor_inss}\")\n",
    "print(f\" - Sindicato (5%):R${valor_sindicato}\")\n",
    "print(f\" = Salário liquido: R${salario_liquido}\")"
   ]
  },
  {
   "cell_type": "markdown",
   "metadata": {},
   "source": [
    "## Exercício 19 \n",
    "Faça um programa para uma loja de tintas. O programa deverá pedir o\n",
    "tamanho em metros quadrados da área a ser pintada. Considere que a cobertura da\n",
    "tinta é de 1 litro para cada 3 metros quadrados e que a tinta é vendida em latas de 18\n",
    "litros, que custam R$ 80,00. Informe ao usuário a quantidades de latas de tinta a serem\n",
    "compradas e o preço total."
   ]
  },
  {
   "cell_type": "code",
   "execution_count": 29,
   "metadata": {},
   "outputs": [
    {
     "name": "stdout",
     "output_type": "stream",
     "text": [
      "para pintar uma área de 108.0m²\n",
      "são necessárias 2.0, e o custo total será de R$160.0\n"
     ]
    }
   ],
   "source": [
    "import math \n",
    "#importar a biblioteca math para utilizar a funcao ceil\n",
    "\n",
    "altura = float(input(\"informe a altura a ser pintada?\"))\n",
    "largura = float(input(\"informe a largura a ser pintada?\"))\n",
    "area = largura * altura\n",
    "area_lata = 54\n",
    "valor_lata = 80\n",
    "# 1 lata = 18 litros = 54 metros quadrados\n",
    "#qtd_latas = round(area / area_lata,2)\n",
    "custoTotal = round(qtd_latas * valor_lata,2)\n",
    "\n",
    "# essa funcao math.ceil arredonda para cima\n",
    "qtd_latas = math.ceil(area / area_lata,)\n",
    "## O ideal era aplicar uma estrutura condicional para verificar se a \n",
    "# quantidade de latas é menor que 1, mas vai ficar assim. =P\n",
    "print(f\"para pintar uma área de {area}m²\")\n",
    "print(f\"são necessárias {qtd_latas}, e o custo total será de R${custoTotal}\")"
   ]
  }
 ],
 "metadata": {
  "kernelspec": {
   "display_name": "Python 3",
   "language": "python",
   "name": "python3"
  },
  "language_info": {
   "codemirror_mode": {
    "name": "ipython",
    "version": 3
   },
   "file_extension": ".py",
   "mimetype": "text/x-python",
   "name": "python",
   "nbconvert_exporter": "python",
   "pygments_lexer": "ipython3",
   "version": "3.11.0"
  }
 },
 "nbformat": 4,
 "nbformat_minor": 2
}
