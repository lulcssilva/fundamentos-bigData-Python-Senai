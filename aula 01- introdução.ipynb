{
 "cells": [
  {
   "cell_type": "markdown",
   "metadata": {},
   "source": [
    "## Criando uma mensagem no console\n",
    "\n",
    "Markdown é um texto que não é reconhecido pela linguagem\n"
   ]
  },
  {
   "cell_type": "code",
   "execution_count": 3,
   "metadata": {},
   "outputs": [
    {
     "name": "stdout",
     "output_type": "stream",
     "text": [
      "hello, baby!\n"
     ]
    }
   ],
   "source": [
    "print('hello, baby!')"
   ]
  },
  {
   "cell_type": "code",
   "execution_count": 3,
   "metadata": {},
   "outputs": [
    {
     "name": "stdout",
     "output_type": "stream",
     "text": [
      "31\n"
     ]
    }
   ],
   "source": [
    "# Criando as variáveis e atribuindo valores a elas\n",
    "num1 = 20\n",
    "num2 = 5\n",
    "num3 = 6\n",
    "\n",
    "# somando os valores das três variáveis criadas\n",
    "soma = num1 + num2 + num3\n",
    "\n",
    "print(soma)"
   ]
  },
  {
   "cell_type": "markdown",
   "metadata": {},
   "source": [
    "# Exercício 10 \n",
    " Faça um Programa que converta metros para centímetros."
   ]
  },
  {
   "cell_type": "code",
   "execution_count": 15,
   "metadata": {},
   "outputs": [
    {
     "name": "stdout",
     "output_type": "stream",
     "text": [
      "150.0\n"
     ]
    }
   ],
   "source": [
    "metros = input('digite um valor em metros')\n",
    "metros = float(metros)\n",
    "centimetros = metros * 100\n",
    "print(centimetros)\n",
    "\n"
   ]
  },
  {
   "cell_type": "markdown",
   "metadata": {},
   "source": [
    "## Exercício 11 \n",
    " Faça um Programa que peça o raio de um círculo, calcule e mostre sua\n",
    "área.\n"
   ]
  },
  {
   "cell_type": "code",
   "execution_count": 30,
   "metadata": {},
   "outputs": [
    {
     "name": "stdout",
     "output_type": "stream",
     "text": [
      "o circulo com raio de 20.0 mm, tem uma area de 1256.6370614359173 mm^2\n"
     ]
    }
   ],
   "source": [
    "# carregar a biblioteca para utilizar o valor do PI completo\n",
    "import numpy as np\n",
    "\n",
    "raio = input('digite o raio do circulo.')\n",
    "raio = float(raio)\n",
    "pi = np.pi\n",
    "areaCirculo = pi * raio ** 2\n",
    "print(f'o circulo com raio de {raio} mm, tem uma area de {areaCirculo} mm²')\n",
    "\n",
    "#f - string {Variável}"
   ]
  },
  {
   "cell_type": "code",
   "execution_count": 28,
   "metadata": {},
   "outputs": [
    {
     "data": {
      "text/plain": [
       "3.141592653589793"
      ]
     },
     "execution_count": 28,
     "metadata": {},
     "output_type": "execute_result"
    }
   ],
   "source": [
    "# carregar a biblioteca para utilizar o valor do PI completo\n",
    "import numpy as np\n",
    "np.pi\n"
   ]
  }
 ],
 "metadata": {
  "kernelspec": {
   "display_name": "Python 3",
   "language": "python",
   "name": "python3"
  },
  "language_info": {
   "codemirror_mode": {
    "name": "ipython",
    "version": 3
   },
   "file_extension": ".py",
   "mimetype": "text/x-python",
   "name": "python",
   "nbconvert_exporter": "python",
   "pygments_lexer": "ipython3",
   "version": "3.11.0"
  }
 },
 "nbformat": 4,
 "nbformat_minor": 2
}
