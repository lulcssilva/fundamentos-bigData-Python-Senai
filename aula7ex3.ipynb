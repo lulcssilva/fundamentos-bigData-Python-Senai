{
 "cells": [
  {
   "cell_type": "markdown",
   "metadata": {},
   "source": [
    "##### Exercício 03 – Manipulando dados com Pandas\n",
    "a) Crie um programa em pandas para ler o arquivo em Excel vendas.xlsx e\n",
    "\n",
    "b) coloque em um dataframe.\n",
    "\n",
    "c) Visualize o cabeçalho dos dados;\n",
    "\n",
    "d) Visualize as últimas linhas;\n",
    "\n",
    "e) Escreva um programa para renomear o cabeçalho da tabela com os\n",
    "\n",
    "f) seguintes nomes:"
   ]
  },
  {
   "cell_type": "code",
   "execution_count": null,
   "metadata": {},
   "outputs": [
    {
     "name": "stdout",
     "output_type": "stream",
     "text": [
      "<class 'pandas.core.frame.DataFrame'>\n",
      "RangeIndex: 130466 entries, 0 to 130465\n",
      "Data columns (total 6 columns):\n",
      " #   Column    Non-Null Count   Dtype         \n",
      "---  ------    --------------   -----         \n",
      " 0   data      130466 non-null  datetime64[ns]\n",
      " 1   vendedor  130466 non-null  object        \n",
      " 2   cargo     130466 non-null  object        \n",
      " 3   cliente   130466 non-null  object        \n",
      " 4   UF        130466 non-null  object        \n",
      " 5   vendas    130466 non-null  float64       \n",
      "dtypes: datetime64[ns](1), float64(1), object(4)\n",
      "memory usage: 6.0+ MB\n"
     ]
    }
   ],
   "source": [
    "# importando a biblioteca do Pandas\n",
    "import pandas as pd\n",
    "# mapear o caminho e o nome do documento\n",
    "caminho = '../luana-cristina-python/Vendas.xlsx'\n",
    "# Atribuir  os dados a um dataFrame~\n",
    "df=pd.read_excel(caminho)\n",
    "# Visualizar o cabeçalho\n",
    "df.head()\n",
    "# Visualizar as últimas linhas\n",
    "df.tail()\n",
    "# Renomear o cabeçalho\n",
    "df.columns=['data','vendedor','cargo','cliente','UF','vendas']\n",
    "df.head()\n",
    "# valores faltantes\n",
    "df.info()\n",
    "\n",
    "\n"
   ]
  },
  {
   "cell_type": "code",
   "execution_count": 22,
   "metadata": {},
   "outputs": [],
   "source": [
    "#filtrando dados de uma forma mais fácil\n",
    "#Selecione a coluna de interesse\n",
    "df_cargos = df['cargo'].drop_duplicates()\n",
    "\n",
    "# converter o df_cargos em lista\n",
    "cargos =df_cargos.to_list()\n",
    "\n",
    "#3 filtrar o DataFrame utilizando a lista Cargos\n",
    "for cargo in cargos:\n",
    "   df_final = df[df['cargo']== cargo] #Filtrar de acordo com os cargos\n",
    "   caminho ='../luana-cristina-python/relatorios ex3 a7/' #caminho da pasta\n",
    "   arquivo =cargo +'.xlsx' #nome do arquivo\n",
    "   df_final.to_excel(caminho + arquivo) #gerando um arquivo excel"
   ]
  },
  {
   "cell_type": "code",
   "execution_count": 27,
   "metadata": {},
   "outputs": [],
   "source": [
    "### *vendedor *cliente *UF\n",
    "#selecionando a coluna de interesse\n",
    "df_clientes = df['cliente'].drop_duplicates()\n",
    "\n",
    "#converter df_clientes em lista\n",
    "clientes = df_clientes.to_list()\n",
    "\n",
    "#filtrar o DataFrame utilizando a lista cliente\n",
    "for cliente in clientes:\n",
    "    df_final = df[df['cliente']== cliente]\n",
    "    caminho ='../luana-cristina-python/relatorios ex3 a7/' #caminho da pasta\n",
    "    arquivo = cliente +'.xlsx' #nome do arquivo\n",
    "    df_final.to_excel(caminho + arquivo) #gerando um arquivo excel\n",
    "\n"
   ]
  },
  {
   "cell_type": "code",
   "execution_count": 31,
   "metadata": {},
   "outputs": [],
   "source": [
    "#selecionando a coluna de interesse\n",
    "df_vendedores = df['vendedor'].drop_duplicates()\n",
    "\n",
    "#converter df_clientes em lista\n",
    "vendedores = df_vendedores.to_list()\n",
    "\n",
    "#filtrar o DataFrame utilizando a lista cliente\n",
    "for vendedor in vendedores:\n",
    "    df_final = df[df['vendedor']== vendedor]\n",
    "    caminho ='../luana-cristina-python/relatorios ex3 a7/' #caminho da pasta\n",
    "    arquivo = vendedor +'.xlsx' #nome do arquivo\n",
    "    df_final.to_excel(caminho + arquivo) #gerando um arquivo excel"
   ]
  },
  {
   "cell_type": "code",
   "execution_count": 33,
   "metadata": {},
   "outputs": [],
   "source": [
    "#selecionando a coluna de interesse\n",
    "df_UFs = df['UF'].drop_duplicates()\n",
    "\n",
    "#converter df_clientes em lista\n",
    "UFs = df_UFs.to_list()\n",
    "\n",
    "#filtrar o DataFrame utilizando a lista cliente\n",
    "for UF in UFs:\n",
    "    df_final = df[df['UF']== UF]\n",
    "    caminho ='../luana-cristina-python/relatorios ex3 a7/' #caminho da pasta\n",
    "    arquivo = UF +'.xlsx' #nome do arquivo\n",
    "    df_final.to_excel(caminho + arquivo) #gerando um arquivo excel"
   ]
  }
 ],
 "metadata": {
  "kernelspec": {
   "display_name": "Python 3",
   "language": "python",
   "name": "python3"
  },
  "language_info": {
   "codemirror_mode": {
    "name": "ipython",
    "version": 3
   },
   "file_extension": ".py",
   "mimetype": "text/x-python",
   "name": "python",
   "nbconvert_exporter": "python",
   "pygments_lexer": "ipython3",
   "version": "3.11.0"
  }
 },
 "nbformat": 4,
 "nbformat_minor": 2
}
