{
 "cells": [
  {
   "cell_type": "markdown",
   "metadata": {},
   "source": [
    "# Estrutura de decião\n"
   ]
  },
  {
   "cell_type": "markdown",
   "metadata": {},
   "source": [
    "# Exercício 01 \n",
    "Crie uma variável chamada \"idade\" e atribua um valor inteiro a ela.\n",
    "Verifique se a idade é maior ou igual a 18 e imprima \"Maior de idade\" ou \"Menor de\n",
    "idade\" de acordo com a condição."
   ]
  },
  {
   "cell_type": "code",
   "execution_count": 6,
   "metadata": {},
   "outputs": [
    {
     "name": "stdout",
     "output_type": "stream",
     "text": [
      "menor de idade\n"
     ]
    }
   ],
   "source": [
    "idade = int(input(\"digite sua idade\"))\n",
    "if idade >= 18:\n",
    "    print(\"maior de idade\")\n",
    "else: \n",
    "    print(\"menor de idade\")"
   ]
  },
  {
   "cell_type": "markdown",
   "metadata": {},
   "source": [
    "## Exercício 02 \n",
    "Crie uma variável chamada \"número\" e atribua um valor inteiro a ela.\n",
    "Verifique se o número é positivo, negativo ou zero e imprima a mensagem\n",
    "correspondente."
   ]
  },
  {
   "cell_type": "code",
   "execution_count": 13,
   "metadata": {},
   "outputs": [
    {
     "name": "stdout",
     "output_type": "stream",
     "text": [
      "número negativo\n"
     ]
    }
   ],
   "source": [
    "num = int(input(\"digite um numero inteiro\"))\n",
    "if num > 0:\n",
    "    print(\"número positivo\")\n",
    "elif num < 0:\n",
    "    print(\"número negativo\")\n",
    "else:\n",
    "    print(\"NULO\")\n"
   ]
  },
  {
   "cell_type": "markdown",
   "metadata": {},
   "source": [
    "## Exercício 03 \n",
    "Crie duas variáveis, \"nota1\" e \"nota2\", e atribua valores numéricos a elas.\n",
    "Verifique se a média das notas é maior ou igual a 7 e imprima \"Aprovado\" ou\n",
    "\"Reprovado\" de acordo com a condição."
   ]
  },
  {
   "cell_type": "code",
   "execution_count": null,
   "metadata": {},
   "outputs": [],
   "source": [
    "#Solicitando a inserção das notas\n",
    "nota1 = float(input(\"Digite a primeira nota\"))\n",
    "nota2 = float(input(\"Digite a primeira nota\"))\n",
    "\n",
    "#calculando a média das notas\n",
    "media=(nota1 + nota2)/2\n",
    "\n",
    "#Verificar a média\n",
    "if media >=7:\n",
    "    print(\"aprovado\")\n",
    "else:\n",
    "    print(\"reprovado\")\n"
   ]
  },
  {
   "cell_type": "markdown",
   "metadata": {},
   "source": [
    "## Exercício 04 \n",
    "Crie uma variável chamada \"idade\" e atribua um valor inteiro a ela.\n",
    "Verifique se a idade está dentro do intervalo de 18 a 30 (inclusive) e imprima a\n",
    "mensagem \"Idade válida\" ou \"Idade inválida\" de acordo com a condição."
   ]
  },
  {
   "cell_type": "code",
   "execution_count": 6,
   "metadata": {},
   "outputs": [
    {
     "name": "stdout",
     "output_type": "stream",
     "text": [
      "idade inválida\n"
     ]
    }
   ],
   "source": [
    "idade = int(input(\"Digite a idade\"))\n",
    "\n",
    "if idade >= 18 and idade <= 30:\n",
    "    print(\"idade válida\")\n",
    "else:\n",
    "    print(\"idade inválida\")"
   ]
  },
  {
   "cell_type": "markdown",
   "metadata": {},
   "source": [
    "## Exercício 05\n",
    "Crie uma variável chamada \"numero\" e atribua um valor inteiro a ela.\n",
    "Verifique se o número é par ou ímpar e imprima a mensagem correspondente."
   ]
  },
  {
   "cell_type": "code",
   "execution_count": 12,
   "metadata": {},
   "outputs": [
    {
     "name": "stdout",
     "output_type": "stream",
     "text": [
      "número par\n"
     ]
    }
   ],
   "source": [
    "numero = int(input(\"Digite um número inteiro\"))\n",
    "\n",
    "if numero % 2 == 0:\n",
    "    print(\"número par\")\n",
    "else:\n",
    "    print(\"número impar\")"
   ]
  },
  {
   "cell_type": "markdown",
   "metadata": {},
   "source": [
    "## Exercício 06 \n",
    "Crie uma variável chamada \"horario\" e atribua um valor inteiro\n",
    "representando a hora do dia (em formato 24 horas). Verifique se o horário está dentro\n",
    "do período da manhã (das 6h às 12h), da tarde (das 12h às 18h) ou da noite (das 18h\n",
    "às 23h) e imprima a mensagem correspondente."
   ]
  },
  {
   "cell_type": "code",
   "execution_count": 50,
   "metadata": {},
   "outputs": [
    {
     "name": "stdout",
     "output_type": "stream",
     "text": [
      "tarde\n"
     ]
    }
   ],
   "source": [
    "horario = int(input(\"Digite o horário\"))\n",
    "if horario >= 0 and horario <6:\n",
    "    print(\"madrugada\")\n",
    "elif horario >= 6 and horario < 12:\n",
    "    print(\"manhã\")\n",
    "elif horario >= 12 and horario < 18:\n",
    "    print(\"tarde\")\n",
    "elif horario >= 18 and horario <= 23:\n",
    "    print(\"noite\")\n",
    "else:\n",
    "    print(\"digite um valor válido\")"
   ]
  },
  {
   "cell_type": "markdown",
   "metadata": {},
   "source": [
    "## Exercício 07 \n",
    "Crie uma variável chamada \"peso\" e atribua um valor numérico a ela.\n",
    "Verifique se o peso está dentro do intervalo de 50 a 100 (inclusive) e imprima a\n",
    "mensagem \"Peso válido\" ou \"Peso inválido\" de acordo com a condição."
   ]
  },
  {
   "cell_type": "code",
   "execution_count": 47,
   "metadata": {},
   "outputs": [
    {
     "name": "stdout",
     "output_type": "stream",
     "text": [
      "peso inválido\n"
     ]
    }
   ],
   "source": [
    "peso = float(input(\"Digite o peso a ser verificado\"))\n",
    "if peso >= 50 and peso <= 100:\n",
    "    print(\"peso válido\")\n",
    "else:\n",
    "    print(\"peso inválido\")\n"
   ]
  },
  {
   "cell_type": "markdown",
   "metadata": {},
   "source": [
    "## Exercício 08 \n",
    "Crie uma variável chamada \"numero\" e atribua um valor inteiro a ela.\n",
    "Verifique se o número é múltiplo de 3 e de 5 ao mesmo tempo e imprima a mensagem\n",
    "correspondente."
   ]
  },
  {
   "cell_type": "code",
   "execution_count": 51,
   "metadata": {},
   "outputs": [
    {
     "name": "stdout",
     "output_type": "stream",
     "text": [
      "Correspondente\n"
     ]
    }
   ],
   "source": [
    "num = int(input(\"digite um número inteiro\"))\n",
    "if num % 3 == 0 and num % 5 == 0:\n",
    "    print(f\"o número{num} é o múltiplo de 3 e 5\")\n",
    "else:\n",
    "    print(\"este número não é multiplo de 3 e 5\")\n"
   ]
  },
  {
   "cell_type": "markdown",
   "metadata": {},
   "source": [
    "## Exercício 09\n",
    "Crie uma variável chamada \"ano\" e atribua um valor inteiro\n",
    "representando um ano. Verifique se o ano é bissexto (divisível por 4, mas não por 100,\n",
    "exceto se for divisível por 400) e imprima a mensagem correspondente."
   ]
  },
  {
   "cell_type": "code",
   "execution_count": 71,
   "metadata": {},
   "outputs": [
    {
     "name": "stdout",
     "output_type": "stream",
     "text": [
      "o ano 2000 é bissexto\n"
     ]
    }
   ],
   "source": [
    "ano= int(input(\"Digite o ano com 4 digitos. ex:AAAA\"))\n",
    "if (ano % 4 == 0 and ano % 100 != 0) or ano % 400 == 0:\n",
    "    print(f\"o ano {ano} é bissexto\")\n",
    "else:\n",
    "    print(f\"o ano {ano} não é bissexto\")\n"
   ]
  },
  {
   "cell_type": "markdown",
   "metadata": {},
   "source": [
    "## Exercício 10 \n",
    "Crie uma variável chamada \"salario\" e atribua um valor numérico a ela.\n",
    "Verifique se o salário é maior do que 1000 e menor do que 2000 ao mesmo tempo e\n",
    "imprima a mensagem correspondente."
   ]
  },
  {
   "cell_type": "code",
   "execution_count": 59,
   "metadata": {},
   "outputs": [
    {
     "name": "stdout",
     "output_type": "stream",
     "text": [
      "salário na margem\n"
     ]
    }
   ],
   "source": [
    "salario =float(input(\"digite o salário\"))\n",
    "if salario >1000 and salario <2000:\n",
    "    print(\"salário na margem\")\n",
    "else:\n",
    "    print(\"salário fora da margem\")\n"
   ]
  },
  {
   "cell_type": "markdown",
   "metadata": {},
   "source": [
    "## Exercício 11 \n",
    "Faça um Programa que peça dois números e imprima o maior deles."
   ]
  },
  {
   "cell_type": "code",
   "execution_count": 67,
   "metadata": {},
   "outputs": [
    {
     "name": "stdout",
     "output_type": "stream",
     "text": [
      "os números são iguais\n"
     ]
    }
   ],
   "source": [
    "num1 = int(input(\"Digite o primeiro número\"))\n",
    "num2 = int(input(\"Digite o segundo número\"))\n",
    "if num1 > num2:\n",
    "    print(\"o primeiro número é maior\")\n",
    "elif num2< num1:\n",
    "    print(\"O segundo número é maior\")\n",
    "else:\n",
    "    print(\"os números são iguais\")"
   ]
  },
  {
   "cell_type": "markdown",
   "metadata": {},
   "source": [
    "## Exercício 12\n",
    "Faça um Programa que peça um valor e mostre na tela se o valor é\n",
    "positivo ou negativo."
   ]
  },
  {
   "cell_type": "code",
   "execution_count": null,
   "metadata": {},
   "outputs": [],
   "source": []
  },
  {
   "cell_type": "markdown",
   "metadata": {},
   "source": [
    "## Exercício 13\n",
    "Faça um Programa que verifique se uma letra digitada é \"F\" ou \"M\".\n",
    "Conforme a letra escrever: F - Feminino, M - Masculino, Sexo Inválido."
   ]
  },
  {
   "cell_type": "code",
   "execution_count": null,
   "metadata": {},
   "outputs": [],
   "source": []
  },
  {
   "cell_type": "markdown",
   "metadata": {},
   "source": [
    "## Exercício 14\n",
    "Faça um Programa que verifique se uma letra digitada é vogal ou\n",
    "consoante."
   ]
  },
  {
   "cell_type": "code",
   "execution_count": null,
   "metadata": {},
   "outputs": [],
   "source": []
  },
  {
   "cell_type": "markdown",
   "metadata": {},
   "source": [
    "## Exercício 15 \n",
    "Faça um programa para a leitura de duas notas parciais de um aluno. O\n",
    "programa deve calcular a média alcançada por aluno e apresentar:\n",
    "\n",
    "• A mensagem \"Aprovado\", se a média alcançada for maior ou igual a sete;\n",
    "\n",
    "• A mensagem \"Reprovado\", se a média for menor do que sete;\n",
    "\n",
    "• A mensagem \"Aprovado com Distinção\", se a média for igual a dez."
   ]
  },
  {
   "cell_type": "code",
   "execution_count": 82,
   "metadata": {},
   "outputs": [
    {
     "name": "stdout",
     "output_type": "stream",
     "text": [
      "reprovado! sua média é 4.0\n"
     ]
    }
   ],
   "source": [
    "# Receber as notas\n",
    "nota1 = float(input(\"Digite a primeira nota\"))\n",
    "nota2 = float(input(\"Digite a segunda nota\"))\n",
    "\n",
    "# calcular a média\n",
    "media = (nota1 + nota2)/2\n",
    "\n",
    "# classificar a apuração final\n",
    "if media >= 7 and media < 10:\n",
    "    print(f\"aprovado! sua média é {media}\")\n",
    "elif media == 10 :\n",
    "    print(f\"aprovado com distinção!!! sua média é {media}\")\n",
    "else:\n",
    "    print(f\"reprovado! sua média é {media}\")\n",
    "\n",
    "\n",
    "# #outro modo:\n",
    "# if media == 10 :\n",
    "#     print(f\"aprovado com distinção!!! sua média é {media}\")\n",
    "# elif media >= 7:\n",
    "#     print(f\"aprovado! sua média é {media}\")\n",
    "# else:\n",
    "#     print(f\"reprovado! sua média é {media}\")\n",
    "    "
   ]
  },
  {
   "cell_type": "markdown",
   "metadata": {},
   "source": [
    "# Exercício 16 \n",
    "Faça um Programa que leia três números e mostre o maior deles."
   ]
  },
  {
   "cell_type": "code",
   "execution_count": 122,
   "metadata": {},
   "outputs": [
    {
     "name": "stdout",
     "output_type": "stream",
     "text": [
      "o maior é o 6\n"
     ]
    }
   ],
   "source": [
    "num1 = int(input(\"Digite o primeiro número\"))\n",
    "num2 = int(input(\"Digite o segundo número\"))\n",
    "num3 = int(input(\"digite o terceiro número\"))\n",
    "\n",
    "if num1 > num2 and num1 > num3:\n",
    "    print(f\"o maior valor é {num1}\")\n",
    "elif num2 >num1 and num2 > num3:\n",
    "    print(f\"o maior número é {num2}\")\n",
    "elif num3 > num1 and num3 > num2:\n",
    "    print(f\"o maior é o {num3}\")\n",
    "else:\n",
    "    print(\"informe três valores diferentes\")"
   ]
  },
  {
   "cell_type": "markdown",
   "metadata": {},
   "source": [
    "# Exercício 17 \n",
    "Faça um Programa que leia três números e mostre o maior e o menor\n",
    "deles."
   ]
  },
  {
   "cell_type": "code",
   "execution_count": null,
   "metadata": {},
   "outputs": [],
   "source": [
    "num1 = int(input(\"digite o primeiro número\"))\n",
    "num2 = int(input(\"digite o segundo número\"))\n",
    "num3 = int(input(\"digite o terceiro número\"))\n"
   ]
  }
 ],
 "metadata": {
  "kernelspec": {
   "display_name": "Python 3",
   "language": "python",
   "name": "python3"
  },
  "language_info": {
   "codemirror_mode": {
    "name": "ipython",
    "version": 3
   },
   "file_extension": ".py",
   "mimetype": "text/x-python",
   "name": "python",
   "nbconvert_exporter": "python",
   "pygments_lexer": "ipython3",
   "version": "3.11.0"
  }
 },
 "nbformat": 4,
 "nbformat_minor": 2
}
