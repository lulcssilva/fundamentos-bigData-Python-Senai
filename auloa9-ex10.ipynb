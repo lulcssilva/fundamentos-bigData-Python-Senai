{
 "cells": [
  {
   "cell_type": "markdown",
   "metadata": {},
   "source": [
    "### ex10 - Desafio"
   ]
  },
  {
   "cell_type": "code",
   "execution_count": 24,
   "metadata": {},
   "outputs": [],
   "source": [
    "import pandas as pd\n",
    "import matplotlib.pyplot as plt\n",
    "import os\n",
    "\n",
    "#mapear o caminho do arquivo\n",
    "caminho = '../luana-cristina-python/DadosVendaCarros.xlsx'\n",
    "\n",
    "#alocar em um dataFrame\n",
    "dados = pd.read_excel(caminho)\n",
    "\n",
    "#cabeçalhos\n",
    "dados.head()\n",
    "\n",
    "#definir nomes\n",
    "headers = ['DataNotaFiscal', 'Fabricante','Estado', 'ValorVenda','CustoVenda', 'TotalDesconto','CustoEntrega', 'CustoMaoDeObra','NomeCliente', 'Modelo','Cor','Ano', 'Mês']\n",
    "\n",
    "dados.columns = headers\n",
    "\n",
    "#removendo os dados nulos\n",
    "dados = dados.dropna()\n",
    "\n"
   ]
  },
  {
   "cell_type": "code",
   "execution_count": 32,
   "metadata": {},
   "outputs": [
    {
     "data": {
      "text/plain": [
       "<BarContainer object of 4 artists>"
      ]
     },
     "execution_count": 32,
     "metadata": {},
     "output_type": "execute_result"
    },
    {
     "data": {
      "image/png": "[encoded data removed]",
      "text/plain": [
       "<Figure size 640x480 with 1 Axes>"
      ]
     },
     "metadata": {},
     "output_type": "display_data"
    }
   ],
   "source": [
    "#agrupando os dados por ano e aplicando a função SOMA na coluna ValorVenda\n",
    "df_ano = dados.groupby('Ano')['ValorVenda'].sum()\n",
    "\n",
    "anos = df_ano.index #valor de x\n",
    "vendas = df_ano.values #valor de Y\n",
    "\n",
    "#criar o gráfico\n",
    "plt.bar(anos,vendas)"
   ]
  },
  {
   "cell_type": "markdown",
   "metadata": {},
   "source": [
    "#### Dados de 2016\n"
   ]
  },
  {
   "cell_type": "code",
   "execution_count": 37,
   "metadata": {},
   "outputs": [
    {
     "data": {
      "text/plain": [
       "Mês\n",
       "Abril        246000.0\n",
       "Agosto       350000.0\n",
       "Dezembro     361500.0\n",
       "Fevereiro    177000.0\n",
       "Janeiro      203500.0\n",
       "Julho        279000.0\n",
       "Junho        259500.0\n",
       "Maio         256500.0\n",
       "Março        172500.0\n",
       "Novembro     333500.0\n",
       "Outubro      249000.0\n",
       "Setembro     297500.0\n",
       "Name: ValorVenda, dtype: float64"
      ]
     },
     "execution_count": 37,
     "metadata": {},
     "output_type": "execute_result"
    }
   ],
   "source": [
    "#Filtrando as vendas de 2016\n",
    "df_2016 = dados[dados['Ano'] == 2016]\n",
    "\n",
    "#agrupar as vendas por mês\n",
    "df_2016.groupby('Mês')['ValorVenda'].sum()"
   ]
  }
 ],
 "metadata": {
  "kernelspec": {
   "display_name": "Python 3",
   "language": "python",
   "name": "python3"
  },
  "language_info": {
   "codemirror_mode": {
    "name": "ipython",
    "version": 3
   },
   "file_extension": ".py",
   "mimetype": "text/x-python",
   "name": "python",
   "nbconvert_exporter": "python",
   "pygments_lexer": "ipython3",
   "version": "3.11.0"
  }
 },
 "nbformat": 4,
 "nbformat_minor": 2
}
