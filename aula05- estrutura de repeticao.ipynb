{
 "cells": [
  {
   "cell_type": "markdown",
   "metadata": {},
   "source": [
    "## Loop FOR\n",
    "\n",
    "A Estrutura de repetição for pode atuar sobre intens de qualquer tipo de sequência (lista ou string) na ordem em que aparecem."
   ]
  },
  {
   "cell_type": "code",
   "execution_count": null,
   "metadata": {},
   "outputs": [],
   "source": [
    "## for simples\n",
    "frutas = ['abacaxi', 'abacate','laranja']\n",
    "\n",
    "for fruta in frutas:\n",
    "    print(fruta)"
   ]
  },
  {
   "cell_type": "markdown",
   "metadata": {},
   "source": [
    "## FOR Condicional(for + if)"
   ]
  },
  {
   "cell_type": "code",
   "execution_count": null,
   "metadata": {},
   "outputs": [],
   "source": [
    "frutas = ['abacaxi','abacate','laranja']\n",
    "\n",
    "for fruta in frutas:\n",
    "\n",
    "    if fruta.startswith('a'):\n",
    "        print(fruta)"
   ]
  },
  {
   "cell_type": "markdown",
   "metadata": {},
   "source": [
    "## For com uma variável acumuladora"
   ]
  },
  {
   "cell_type": "code",
   "execution_count": null,
   "metadata": {},
   "outputs": [],
   "source": [
    "listaNumeros =[1,2,3,4,5,6,7,8,9,10]\n",
    "\n",
    "soma = 0 #variável acumuladora\n",
    "\n",
    "for numero in listaNumeros:\n",
    "    soma = soma + numero\n",
    "\n",
    "    print(soma)"
   ]
  },
  {
   "cell_type": "markdown",
   "metadata": {},
   "source": [
    "## Exercício 06 \n",
    "\n",
    "Faça um programa que imprima na tela os números de 1 a 20, um abaixo\n",
    "do outro. Depois modifique o programa para que ele mostre os números um ao lado do\n",
    "outro."
   ]
  },
  {
   "cell_type": "code",
   "execution_count": null,
   "metadata": {},
   "outputs": [],
   "source": [
    "listaNume = range(1,21)\n",
    "lista = []  #criar lista vazia\n",
    "for x in listaNume:\n",
    "        #adicionar novos elementos a lista\n",
    "        lista.append(x)\n",
    "\n",
    "print(lista)\n"
   ]
  },
  {
   "cell_type": "markdown",
   "metadata": {},
   "source": [
    "## Exercício 07 \n",
    "Faça um programa que leia 5 números e informe o maior número."
   ]
  },
  {
   "cell_type": "code",
   "execution_count": 43,
   "metadata": {},
   "outputs": [
    {
     "name": "stdout",
     "output_type": "stream",
     "text": [
      "O maior valor da lista é: 9\n"
     ]
    }
   ],
   "source": [
    "listaControle = range(1,6)\n",
    "#salvar o valor em uma lista vazia\n",
    "numeros = []\n",
    "for i in listaControle:\n",
    "    num = int(input(\"insira os 5 valores\"))\n",
    "    numeros.append(num)\n",
    "# print(numeros) #verificar os valores digitado\n",
    "print ('O maior valor da lista é:', max(numeros))\n"
   ]
  },
  {
   "cell_type": "markdown",
   "metadata": {},
   "source": [
    "## Exercício 08 \n",
    "Faça um programa que leia 5 números e informe a soma e a média dos\n",
    "números."
   ]
  },
  {
   "cell_type": "code",
   "execution_count": null,
   "metadata": {},
   "outputs": [],
   "source": [
    "numerosEntrada =range(1,6)\n",
    "numeros =[]\n",
    "for i in numerosEntrada:\n",
    "\n",
    "  num = int(input('insira os 5 valores'))\n",
    "  numeros.append(num)\n",
    "\n",
    "\n",
    "#soma\n",
    "soma = sum(numeros)\n",
    "#quantidade de elementos\n",
    "qtd= len(numeros)\n",
    "#media\n",
    "media = soma / qtd\n",
    "print(soma)\n",
    "print(media)\n",
    "\n"
   ]
  },
  {
   "cell_type": "markdown",
   "metadata": {},
   "source": [
    "## Exercício 09 \n",
    "Faça um programa que imprima na tela apenas os números ímpares\n",
    "entre 1 e 50."
   ]
  },
  {
   "cell_type": "code",
   "execution_count": null,
   "metadata": {},
   "outputs": [],
   "source": [
    "numeros = range(1,51) # Gerar 50 valores partindo de 1\n",
    "for w in numeros:\n",
    "    if w % 2 != 0: \n",
    "    #se o resto for diferente de zero, o número é impar\n",
    "        print(w)"
   ]
  },
  {
   "cell_type": "markdown",
   "metadata": {},
   "source": [
    "## Exercício 10 \n",
    "Faça um programa que receba dois números inteiros e gere os números\n",
    "inteiros que estão no intervalo compreendido por eles."
   ]
  },
  {
   "cell_type": "code",
   "execution_count": null,
   "metadata": {},
   "outputs": [],
   "source": [
    "numeroInferior = int(input('digite o 1º número'))\n",
    "numeroSuperior = int(input('digite o 2º número'))\n",
    "\n",
    "for x in range(numeroInferior, numeroSuperior+1):\n",
    "    print(x)\n"
   ]
  },
  {
   "cell_type": "markdown",
   "metadata": {},
   "source": [
    "## Exercício 11 \n",
    "Altere o programa anterior para mostrar no final a soma dos números."
   ]
  },
  {
   "cell_type": "code",
   "execution_count": null,
   "metadata": {},
   "outputs": [],
   "source": [
    "numeroInferior = int(input('digite o 1º número'))\n",
    "numeroSuperior = int(input('digite o 2º número'))\n",
    "soma=0\n",
    "for x in range(numeroInferior, numeroSuperior+1):\n",
    "    soma += x\n",
    "    print(x)\n",
    "\n"
   ]
  },
  {
   "cell_type": "markdown",
   "metadata": {},
   "source": [
    "## Exercício 12 \n",
    "Desenvolva um gerador de tabuada, capaz de gerar a tabuada de\n",
    "qualquer número inteiro entre 1 a 10. O usuário deve informar de qual numero ele deseja\n",
    "ver a tabuada. "
   ]
  },
  {
   "cell_type": "code",
   "execution_count": null,
   "metadata": {},
   "outputs": [],
   "source": [
    "numero = int(input('informe um valor para gerarmos sua tabuada'))\n",
    "for fator in range(0,11):\n",
    "    result = numero * fator\n",
    "    print(f'{numero} x {fator} = {result}')\n",
    "    "
   ]
  },
  {
   "cell_type": "markdown",
   "metadata": {},
   "source": [
    " ### LOOP While\n",
    "\n",
    " a Estruta de repetição WHILE é utilizada quando precisamos repetir uma ação algumas vezes ou fazer uma iteração até que uma condição seja satisfeita"
   ]
  },
  {
   "cell_type": "code",
   "execution_count": 9,
   "metadata": {},
   "outputs": [
    {
     "name": "stdout",
     "output_type": "stream",
     "text": [
      "2\n",
      "3\n",
      "4\n",
      "5\n",
      "6\n",
      "7\n",
      "8\n",
      "9\n",
      "10\n",
      "11\n"
     ]
    }
   ],
   "source": [
    "i = 1 # variável de controle\n",
    "soma = 0 #variavel acumuladora\n",
    "\n",
    "while i <= 10:\n",
    "    soma += 1\n",
    "    i += 1\n",
    "    print(i)\n",
    "   "
   ]
  },
  {
   "cell_type": "code",
   "execution_count": null,
   "metadata": {},
   "outputs": [],
   "source": []
  },
  {
   "cell_type": "code",
   "execution_count": 2,
   "metadata": {},
   "outputs": [
    {
     "name": "stdout",
     "output_type": "stream",
     "text": [
      "Package           Version\n",
      "----------------- ------------\n",
      "asttokens         2.2.1\n",
      "backcall          0.2.0\n",
      "colorama          0.4.6\n",
      "comm              0.1.4\n",
      "contourpy         1.1.1\n",
      "cycler            0.11.0\n",
      "debugpy           1.6.7\n",
      "decorator         5.1.1\n",
      "EasyProcess       1.1\n",
      "entrypoint2       1.1\n",
      "et-xmlfile        1.1.0\n",
      "executing         1.2.0\n",
      "fonttools         4.42.1\n",
      "ipykernel         6.25.0\n",
      "ipython           8.14.0\n",
      "jedi              0.19.0\n",
      "joblib            1.3.2\n",
      "jupyter_client    8.3.0\n",
      "jupyter_core      5.3.1\n",
      "kiwisolver        1.4.5\n",
      "matplotlib        3.8.0\n",
      "matplotlib-inline 0.1.6\n",
      "MouseInfo         0.1.3\n",
      "mss               9.0.1\n",
      "nest-asyncio      1.5.7\n",
      "numpy             1.24.2\n",
      "openpyxl          3.1.2\n",
      "packaging         23.1\n",
      "pandas            2.1.0\n",
      "parso             0.8.3\n",
      "pickleshare       0.7.5\n",
      "Pillow            10.0.0\n",
      "pip               22.3\n",
      "platformdirs      3.10.0\n",
      "prompt-toolkit    3.0.39\n",
      "psutil            5.9.5\n",
      "pure-eval         0.2.2\n",
      "PyAutoGUI         0.9.54\n",
      "PyGetWindow       0.0.9\n",
      "Pygments          2.15.1\n",
      "PyMsgBox          1.0.9\n",
      "pyparsing         3.1.1\n",
      "PyPDF2            3.0.1\n",
      "pyperclip         1.8.2\n",
      "PyRect            0.2.0\n",
      "pyscreenshot      3.1\n",
      "PyScreeze         0.1.29\n",
      "python-dateutil   2.8.2\n",
      "pytweening        1.0.7\n",
      "pytz              2023.3.post1\n",
      "pywin32           306\n",
      "pyzmq             25.1.0\n",
      "scikit-learn      1.3.1\n",
      "scipy             1.11.3\n",
      "seaborn           0.12.2\n",
      "setuptools        65.5.0\n",
      "six               1.16.0\n",
      "stack-data        0.6.2\n",
      "threadpoolctl     3.2.0\n",
      "tornado           6.3.2\n",
      "traitlets         5.9.0\n",
      "tzdata            2023.3\n",
      "wcwidth           0.2.6\n",
      "XlsxWriter        3.1.2\n"
     ]
    },
    {
     "name": "stderr",
     "output_type": "stream",
     "text": [
      "\n",
      "[notice] A new release of pip available: 22.3 -> 23.3.1\n",
      "[notice] To update, run: python.exe -m pip install --upgrade pip\n"
     ]
    }
   ],
   "source": [
    "!pip list"
   ]
  },
  {
   "cell_type": "code",
   "execution_count": 3,
   "metadata": {},
   "outputs": [
    {
     "name": "stdout",
     "output_type": "stream",
     "text": [
      "Requirement already satisfied: pandas in c:\\python311\\lib\\site-packages (2.1.0)\n",
      "Requirement already satisfied: numpy>=1.23.2 in c:\\python311\\lib\\site-packages (from pandas) (1.24.2)\n",
      "Requirement already satisfied: python-dateutil>=2.8.2 in c:\\users\\fic\\appdata\\roaming\\python\\python311\\site-packages (from pandas) (2.8.2)\n",
      "Requirement already satisfied: pytz>=2020.1 in c:\\python311\\lib\\site-packages (from pandas) (2023.3.post1)\n",
      "Requirement already satisfied: tzdata>=2022.1 in c:\\python311\\lib\\site-packages (from pandas) (2023.3)\n",
      "Requirement already satisfied: six>=1.5 in c:\\users\\fic\\appdata\\roaming\\python\\python311\\site-packages (from python-dateutil>=2.8.2->pandas) (1.16.0)\n"
     ]
    },
    {
     "name": "stderr",
     "output_type": "stream",
     "text": [
      "\n",
      "[notice] A new release of pip available: 22.3 -> 23.3.1\n",
      "[notice] To update, run: python.exe -m pip install --upgrade pip\n"
     ]
    }
   ],
   "source": [
    "!pip install pandas"
   ]
  }
 ],
 "metadata": {
  "kernelspec": {
   "display_name": "Python 3",
   "language": "python",
   "name": "python3"
  },
  "language_info": {
   "codemirror_mode": {
    "name": "ipython",
    "version": 3
   },
   "file_extension": ".py",
   "mimetype": "text/x-python",
   "name": "python",
   "nbconvert_exporter": "python",
   "pygments_lexer": "ipython3",
   "version": "3.11.0"
  }
 },
 "nbformat": 4,
 "nbformat_minor": 2
}
