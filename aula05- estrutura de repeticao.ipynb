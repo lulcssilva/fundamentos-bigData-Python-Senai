{
 "cells": [
  {
   "cell_type": "markdown",
   "metadata": {},
   "source": [
    "## Loop FOR\n",
    "\n",
    "A Estrutura de repetição for pode atuar sobre intens de qualquer tipo de sequência (lista ou string) na ordem em que aparecem."
   ]
  },
  {
   "cell_type": "code",
   "execution_count": null,
   "metadata": {},
   "outputs": [],
   "source": [
    "## for simples\n",
    "frutas = ['abacaxi', 'abacate','laranja']\n",
    "\n",
    "for fruta in frutas:\n",
    "    print(fruta)"
   ]
  },
  {
   "cell_type": "markdown",
   "metadata": {},
   "source": [
    "## FOR Condicional(for + if)"
   ]
  },
  {
   "cell_type": "code",
   "execution_count": null,
   "metadata": {},
   "outputs": [],
   "source": [
    "frutas = ['abacaxi','abacate','laranja']\n",
    "\n",
    "for fruta in frutas:\n",
    "\n",
    "    if fruta.startswith('a'):\n",
    "        print(fruta)"
   ]
  },
  {
   "cell_type": "markdown",
   "metadata": {},
   "source": [
    "## For com uma variável acumuladora"
   ]
  },
  {
   "cell_type": "code",
   "execution_count": null,
   "metadata": {},
   "outputs": [],
   "source": [
    "listaNumeros =[1,2,3,4,5,6,7,8,9,10]\n",
    "\n",
    "soma = 0 #variável acumuladora\n",
    "\n",
    "for numero in listaNumeros:\n",
    "    soma = soma + numero\n",
    "\n",
    "    print(soma)"
   ]
  },
  {
   "cell_type": "markdown",
   "metadata": {},
   "source": [
    "## Exercício 06 \n",
    "\n",
    "Faça um programa que imprima na tela os números de 1 a 20, um abaixo\n",
    "do outro. Depois modifique o programa para que ele mostre os números um ao lado do\n",
    "outro."
   ]
  },
  {
   "cell_type": "code",
   "execution_count": null,
   "metadata": {},
   "outputs": [],
   "source": [
    "listaNume = range(1,21)\n",
    "lista = []  #criar lista vazia\n",
    "for x in listaNume:\n",
    "        #adicionar novos elementos a lista\n",
    "        lista.append(x)\n",
    "\n",
    "print(lista)\n"
   ]
  },
  {
   "cell_type": "markdown",
   "metadata": {},
   "source": [
    "## Exercício 07 \n",
    "Faça um programa que leia 5 números e informe o maior número."
   ]
  },
  {
   "cell_type": "code",
   "execution_count": 43,
   "metadata": {},
   "outputs": [
    {
     "name": "stdout",
     "output_type": "stream",
     "text": [
      "O maior valor da lista é: 9\n"
     ]
    }
   ],
   "source": [
    "listaControle = range(1,6)\n",
    "#salvar o valor em uma lista vazia\n",
    "numeros = []\n",
    "for i in listaControle:\n",
    "    num = int(input(\"insira os 5 valores\"))\n",
    "    numeros.append(num)\n",
    "# print(numeros) #verificar os valores digitado\n",
    "print ('O maior valor da lista é:', max(numeros))\n"
   ]
  },
  {
   "cell_type": "markdown",
   "metadata": {},
   "source": [
    "## Exercício 08 \n",
    "Faça um programa que leia 5 números e informe a soma e a média dos\n",
    "números."
   ]
  },
  {
   "cell_type": "code",
   "execution_count": null,
   "metadata": {},
   "outputs": [],
   "source": [
    "numerosEntrada =range(1,6)\n",
    "numeros =[]\n",
    "for i in numerosEntrada:\n",
    "\n",
    "  num = int(input('insira os 5 valores'))\n",
    "  numeros.append(num)\n",
    "\n",
    "\n",
    "#soma\n",
    "soma = sum(numeros)\n",
    "#quantidade de elementos\n",
    "qtd= len(numeros)\n",
    "#media\n",
    "media = soma / qtd\n",
    "print(soma)\n",
    "print(media)\n",
    "\n"
   ]
  },
  {
   "cell_type": "markdown",
   "metadata": {},
   "source": [
    "## Exercício 09 \n",
    "Faça um programa que imprima na tela apenas os números ímpares\n",
    "entre 1 e 50."
   ]
  },
  {
   "cell_type": "code",
   "execution_count": null,
   "metadata": {},
   "outputs": [],
   "source": [
    "numeros = range(1,51) # Gerar 50 valores partindo de 1\n",
    "for w in numeros:\n",
    "    if w % 2 != 0: \n",
    "    #se o resto for diferente de zero, o número é impar\n",
    "        print(w)"
   ]
  },
  {
   "cell_type": "markdown",
   "metadata": {},
   "source": [
    "## Exercício 10 \n",
    "Faça um programa que receba dois números inteiros e gere os números\n",
    "inteiros que estão no intervalo compreendido por eles."
   ]
  },
  {
   "cell_type": "code",
   "execution_count": null,
   "metadata": {},
   "outputs": [],
   "source": [
    "numeroInferior = int(input('digite o 1º número'))\n",
    "numeroSuperior = int(input('digite o 2º número'))\n",
    "\n",
    "for x in range(numeroInferior, numeroSuperior+1):\n",
    "    print(x)\n"
   ]
  },
  {
   "cell_type": "markdown",
   "metadata": {},
   "source": [
    "## Exercício 11 \n",
    "Altere o programa anterior para mostrar no final a soma dos números."
   ]
  },
  {
   "cell_type": "code",
   "execution_count": null,
   "metadata": {},
   "outputs": [],
   "source": [
    "numeroInferior = int(input('digite o 1º número'))\n",
    "numeroSuperior = int(input('digite o 2º número'))\n",
    "soma=0\n",
    "for x in range(numeroInferior, numeroSuperior+1):\n",
    "    soma += x\n",
    "    print(x)\n",
    "\n"
   ]
  },
  {
   "cell_type": "markdown",
   "metadata": {},
   "source": [
    "## Exercício 12 \n",
    "Desenvolva um gerador de tabuada, capaz de gerar a tabuada de\n",
    "qualquer número inteiro entre 1 a 10. O usuário deve informar de qual numero ele deseja\n",
    "ver a tabuada. "
   ]
  },
  {
   "cell_type": "code",
   "execution_count": null,
   "metadata": {},
   "outputs": [],
   "source": [
    "numero = int(input('informe um valor para gerarmos sua tabuada'))\n",
    "for fator in range(0,11):\n",
    "    result = numero * fator\n",
    "    print(f'{numero} x {fator} = {result}')\n",
    "    "
   ]
  },
  {
   "cell_type": "markdown",
   "metadata": {},
   "source": [
    " ### LOOP While\n",
    "\n",
    " a Estruta de repetição WHILE é utilizada quando precisamos repetir uma ação algumas vezes ou fazer uma iteração até que uma condição seja satisfeita"
   ]
  },
  {
   "cell_type": "code",
   "execution_count": 9,
   "metadata": {},
   "outputs": [
    {
     "name": "stdout",
     "output_type": "stream",
     "text": [
      "2\n",
      "3\n",
      "4\n",
      "5\n",
      "6\n",
      "7\n",
      "8\n",
      "9\n",
      "10\n",
      "11\n"
     ]
    }
   ],
   "source": [
    "i = 1 # variável de controle\n",
    "soma = 0 #variavel acumuladora\n",
    "\n",
    "while i <= 10:\n",
    "    soma += 1\n",
    "    i += 1\n",
    "    print(i)\n",
    "   "
   ]
  }
 ],
 "metadata": {
  "kernelspec": {
   "display_name": "Python 3",
   "language": "python",
   "name": "python3"
  },
  "language_info": {
   "codemirror_mode": {
    "name": "ipython",
    "version": 3
   },
   "file_extension": ".py",
   "mimetype": "text/x-python",
   "name": "python",
   "nbconvert_exporter": "python",
   "pygments_lexer": "ipython3",
   "version": "3.11.0"
  }
 },
 "nbformat": 4,
 "nbformat_minor": 2
}
