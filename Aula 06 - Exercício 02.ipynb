{
 "cells": [
  {
   "cell_type": "markdown",
   "metadata": {},
   "source": [
    "#### Exercício 02"
   ]
  },
  {
   "cell_type": "code",
   "execution_count": 2,
   "metadata": {},
   "outputs": [],
   "source": [
    "# Importando a biblioteca\n",
    "import pandas as pd\n",
    "\n",
    "# Mapeando o documento\n",
    "path = \"C:\\\\Users\\\\Aluno\\\\Documents\\\\eduardo-inocencio-python\\\\arquivos\\\\Imobiliária.xlsx\"\n",
    "\n",
    "# Alocando os dados em um dataframe\n",
    "df = pd.read_excel(path)"
   ]
  },
  {
   "cell_type": "markdown",
   "metadata": {},
   "source": [
    "Visualize o cabeçalho dos dados;"
   ]
  },
  {
   "cell_type": "code",
   "execution_count": 5,
   "metadata": {},
   "outputs": [
    {
     "data": {
      "text/html": [
       "<div>\n",
       "<style scoped>\n",
       "    .dataframe tbody tr th:only-of-type {\n",
       "        vertical-align: middle;\n",
       "    }\n",
       "\n",
       "    .dataframe tbody tr th {\n",
       "        vertical-align: top;\n",
       "    }\n",
       "\n",
       "    .dataframe thead th {\n",
       "        text-align: right;\n",
       "    }\n",
       "</style>\n",
       "<table border=\"1\" class=\"dataframe\">\n",
       "  <thead>\n",
       "    <tr style=\"text-align: right;\">\n",
       "      <th></th>\n",
       "      <th>filial</th>\n",
       "      <th>vendedor</th>\n",
       "      <th>data</th>\n",
       "      <th>tipo</th>\n",
       "      <th>area</th>\n",
       "      <th>dorms</th>\n",
       "      <th>garag</th>\n",
       "      <th>piscina</th>\n",
       "      <th>preco</th>\n",
       "      <th>comissao</th>\n",
       "    </tr>\n",
       "  </thead>\n",
       "  <tbody>\n",
       "    <tr>\n",
       "      <th>0</th>\n",
       "      <td>Centro</td>\n",
       "      <td>Simone</td>\n",
       "      <td>2005-10-08</td>\n",
       "      <td>Apartamento</td>\n",
       "      <td>102.5</td>\n",
       "      <td>2</td>\n",
       "      <td>2</td>\n",
       "      <td>Sim</td>\n",
       "      <td>235500</td>\n",
       "      <td>3532.5</td>\n",
       "    </tr>\n",
       "  </tbody>\n",
       "</table>\n",
       "</div>"
      ],
      "text/plain": [
       "   filial vendedor       data         tipo   area  dorms  garag piscina  \\\n",
       "0  Centro   Simone 2005-10-08  Apartamento  102.5      2      2     Sim   \n",
       "\n",
       "    preco  comissao  \n",
       "0  235500    3532.5  "
      ]
     },
     "execution_count": 5,
     "metadata": {},
     "output_type": "execute_result"
    }
   ],
   "source": [
    "# Lista com novos nomes\n",
    "headers = [\n",
    "    'filial','vendedor','data','tipo','area',\n",
    "    'dorms','garag','piscina','preco','comissao'\n",
    "]\n",
    "\n",
    "# Renomeando as colunas\n",
    "df.columns = (headers)\n",
    "df.head(1)"
   ]
  },
  {
   "cell_type": "markdown",
   "metadata": {},
   "source": [
    "5. Quais são os tipos de dados que temos no dataframe?\n",
    "\n",
    "6. Há valores faltantes ou nulos?"
   ]
  },
  {
   "cell_type": "code",
   "execution_count": 6,
   "metadata": {},
   "outputs": [
    {
     "name": "stdout",
     "output_type": "stream",
     "text": [
      "<class 'pandas.core.frame.DataFrame'>\n",
      "RangeIndex: 1117 entries, 0 to 1116\n",
      "Data columns (total 10 columns):\n",
      " #   Column    Non-Null Count  Dtype         \n",
      "---  ------    --------------  -----         \n",
      " 0   filial    1117 non-null   object        \n",
      " 1   vendedor  1117 non-null   object        \n",
      " 2   data      1117 non-null   datetime64[ns]\n",
      " 3   tipo      1117 non-null   object        \n",
      " 4   area      1117 non-null   float64       \n",
      " 5   dorms     1117 non-null   int64         \n",
      " 6   garag     1117 non-null   int64         \n",
      " 7   piscina   1117 non-null   object        \n",
      " 8   preco     1117 non-null   int64         \n",
      " 9   comissao  1117 non-null   float64       \n",
      "dtypes: datetime64[ns](1), float64(2), int64(3), object(4)\n",
      "memory usage: 87.4+ KB\n"
     ]
    }
   ],
   "source": [
    "df.info()"
   ]
  },
  {
   "cell_type": "markdown",
   "metadata": {},
   "source": [
    "7. Calcule a soma, média, máximo, mínimo e contagem da coluna Preço."
   ]
  },
  {
   "cell_type": "code",
   "execution_count": 7,
   "metadata": {},
   "outputs": [
    {
     "data": {
      "text/plain": [
       "295035000"
      ]
     },
     "execution_count": 7,
     "metadata": {},
     "output_type": "execute_result"
    }
   ],
   "source": [
    "# Calculando a soma da coluna Preço\n",
    "df['preco'].sum()"
   ]
  },
  {
   "cell_type": "code",
   "execution_count": 8,
   "metadata": {},
   "outputs": [
    {
     "data": {
      "text/plain": [
       "264131.6025067144"
      ]
     },
     "execution_count": 8,
     "metadata": {},
     "output_type": "execute_result"
    }
   ],
   "source": [
    "# Calculando a média da coluna Preço\n",
    "df['preco'].mean()"
   ]
  },
  {
   "cell_type": "code",
   "execution_count": 9,
   "metadata": {},
   "outputs": [
    {
     "data": {
      "text/plain": [
       "384300"
      ]
     },
     "execution_count": 9,
     "metadata": {},
     "output_type": "execute_result"
    }
   ],
   "source": [
    "# Encontrar o maior valor da coluna Preço\n",
    "df['preco'].max()"
   ]
  },
  {
   "cell_type": "code",
   "execution_count": 11,
   "metadata": {},
   "outputs": [
    {
     "data": {
      "text/plain": [
       "145100"
      ]
     },
     "execution_count": 11,
     "metadata": {},
     "output_type": "execute_result"
    }
   ],
   "source": [
    "# Encontrar o menor valor da coluna Preço\n",
    "df['preco'].min()"
   ]
  },
  {
   "cell_type": "code",
   "execution_count": 10,
   "metadata": {},
   "outputs": [
    {
     "data": {
      "text/plain": [
       "1117"
      ]
     },
     "execution_count": 10,
     "metadata": {},
     "output_type": "execute_result"
    }
   ],
   "source": [
    "# Calcular a quantidade de elementos\n",
    "df['preco'].count()"
   ]
  },
  {
   "cell_type": "markdown",
   "metadata": {},
   "source": [
    "8. Crie um programa para criar um dataframe para mostrar as vendas por\n",
    "região, e salvar um arquivo em Excel para cada região."
   ]
  },
  {
   "cell_type": "code",
   "execution_count": 15,
   "metadata": {},
   "outputs": [],
   "source": [
    "# Gerar um relatório de vendas da região CENTRO\n",
    "\n",
    "# Filtrar os dados\n",
    "df_final = df[df['filial'] == 'Centro']\n",
    "\n",
    "# Mapear o caminho final e definir um nome para o arquivo\n",
    "caminho = 'C:\\\\Users\\\\Aluno\\\\Documents\\\\eduardo-inocencio-python\\\\relatorios-filiais\\\\'\n",
    "arquivo = 'centro.xlsx'\n",
    "\n",
    "# Salvar o arquivo na pasta\n",
    "\n",
    "df_final.to_excel(caminho + arquivo)"
   ]
  }
 ],
 "metadata": {
  "kernelspec": {
   "display_name": "Python 3",
   "language": "python",
   "name": "python3"
  },
  "language_info": {
   "codemirror_mode": {
    "name": "ipython",
    "version": 3
   },
   "file_extension": ".py",
   "mimetype": "text/x-python",
   "name": "python",
   "nbconvert_exporter": "python",
   "pygments_lexer": "ipython3",
   "version": "3.11.0"
  }
 },
 "nbformat": 4,
 "nbformat_minor": 2
}
