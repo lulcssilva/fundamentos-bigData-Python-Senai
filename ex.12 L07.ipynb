{
 "cells": [
  {
   "cell_type": "markdown",
   "metadata": {},
   "source": [
    "### ex 12\n"
   ]
  },
  {
   "cell_type": "code",
   "execution_count": 76,
   "metadata": {},
   "outputs": [
    {
     "data": {
      "text/html": [
       "<div>\n",
       "<style scoped>\n",
       "    .dataframe tbody tr th:only-of-type {\n",
       "        vertical-align: middle;\n",
       "    }\n",
       "\n",
       "    .dataframe tbody tr th {\n",
       "        vertical-align: top;\n",
       "    }\n",
       "\n",
       "    .dataframe thead th {\n",
       "        text-align: right;\n",
       "    }\n",
       "</style>\n",
       "<table border=\"1\" class=\"dataframe\">\n",
       "  <thead>\n",
       "    <tr style=\"text-align: right;\">\n",
       "      <th></th>\n",
       "      <th>Instituição</th>\n",
       "      <th>Comentario</th>\n",
       "      <th>Data</th>\n",
       "      <th>Classificação</th>\n",
       "      <th>Elogio quanto ao app</th>\n",
       "      <th>Reclamação quanto ao app</th>\n",
       "      <th>Elogio a Instituição</th>\n",
       "      <th>Reclamação a Instituição</th>\n",
       "      <th>Não Classificável</th>\n",
       "    </tr>\n",
       "  </thead>\n",
       "  <tbody>\n",
       "    <tr>\n",
       "      <th>0</th>\n",
       "      <td>Banco do Brasil</td>\n",
       "      <td>Muito bom ajuda muito</td>\n",
       "      <td>2019-07-21</td>\n",
       "      <td>5</td>\n",
       "      <td>SIM</td>\n",
       "      <td>NÃO</td>\n",
       "      <td>NÃO</td>\n",
       "      <td>NÃO</td>\n",
       "      <td>NÃO</td>\n",
       "    </tr>\n",
       "    <tr>\n",
       "      <th>1</th>\n",
       "      <td>Banco do Brasil</td>\n",
       "      <td>excelente</td>\n",
       "      <td>2019-07-21</td>\n",
       "      <td>5</td>\n",
       "      <td>SIM</td>\n",
       "      <td>NÃO</td>\n",
       "      <td>NÃO</td>\n",
       "      <td>NÃO</td>\n",
       "      <td>NÃO</td>\n",
       "    </tr>\n",
       "    <tr>\n",
       "      <th>2</th>\n",
       "      <td>Banco do Brasil</td>\n",
       "      <td>Bom</td>\n",
       "      <td>2019-07-21</td>\n",
       "      <td>5</td>\n",
       "      <td>SIM</td>\n",
       "      <td>NÃO</td>\n",
       "      <td>NÃO</td>\n",
       "      <td>NÃO</td>\n",
       "      <td>NÃO</td>\n",
       "    </tr>\n",
       "    <tr>\n",
       "      <th>3</th>\n",
       "      <td>Banco do Brasil</td>\n",
       "      <td>aplicativo muito top</td>\n",
       "      <td>2019-07-21</td>\n",
       "      <td>5</td>\n",
       "      <td>SIM</td>\n",
       "      <td>NÃO</td>\n",
       "      <td>NÃO</td>\n",
       "      <td>NÃO</td>\n",
       "      <td>NÃO</td>\n",
       "    </tr>\n",
       "    <tr>\n",
       "      <th>4</th>\n",
       "      <td>Banco do Brasil</td>\n",
       "      <td>Fácil e prático</td>\n",
       "      <td>2019-07-21</td>\n",
       "      <td>5</td>\n",
       "      <td>SIM</td>\n",
       "      <td>NÃO</td>\n",
       "      <td>NÃO</td>\n",
       "      <td>NÃO</td>\n",
       "      <td>NÃO</td>\n",
       "    </tr>\n",
       "  </tbody>\n",
       "</table>\n",
       "</div>"
      ],
      "text/plain": [
       "       Instituição             Comentario       Data  Classificação  \\\n",
       "0  Banco do Brasil  Muito bom ajuda muito 2019-07-21              5   \n",
       "1  Banco do Brasil              excelente 2019-07-21              5   \n",
       "2  Banco do Brasil                    Bom 2019-07-21              5   \n",
       "3  Banco do Brasil   aplicativo muito top 2019-07-21              5   \n",
       "4  Banco do Brasil        Fácil e prático 2019-07-21              5   \n",
       "\n",
       "  Elogio quanto ao app Reclamação quanto ao app Elogio a Instituição  \\\n",
       "0                  SIM                      NÃO                  NÃO   \n",
       "1                  SIM                      NÃO                  NÃO   \n",
       "2                  SIM                      NÃO                  NÃO   \n",
       "3                  SIM                      NÃO                  NÃO   \n",
       "4                  SIM                      NÃO                  NÃO   \n",
       "\n",
       "  Reclamação a Instituição Não Classificável  \n",
       "0                      NÃO               NÃO  \n",
       "1                      NÃO               NÃO  \n",
       "2                      NÃO               NÃO  \n",
       "3                      NÃO               NÃO  \n",
       "4                      NÃO               NÃO  "
      ]
     },
     "execution_count": 76,
     "metadata": {},
     "output_type": "execute_result"
    }
   ],
   "source": [
    "#importação das bibliotecas\n",
    "import pandas as pd\n",
    "import matplotlib.pyplot as plt\n",
    "import seaborn as sns\n",
    "\n",
    "#mapear o caminho do arquivo\n",
    "caminhoCompleto ='./dados-satisfação.xlsx'\n",
    "\n",
    "dados = pd.read_excel(caminhoCompleto, sheet_name='treino')\n",
    "\n",
    "#exibir o cabeçalho DataFrame\n",
    "dados.head()"
   ]
  },
  {
   "cell_type": "code",
   "execution_count": 77,
   "metadata": {},
   "outputs": [],
   "source": [
    "#substituindo os dados\n",
    "dados['Elogio quanto ao app'] = dados['Elogio quanto ao app'].replace('SIM', 1)\n",
    "dados['Elogio quanto ao app'] = dados['Elogio quanto ao app'].replace('NÃO', 0)\n",
    "dados['Elogio quanto ao app'] = dados['Elogio quanto ao app'].replace('NAO', 0)\n",
    "\n",
    "dados['Reclamação quanto ao app'] = dados['Reclamação quanto ao app'].replace('SIM', 1)\n",
    "dados['Reclamação quanto ao app'] = dados['Reclamação quanto ao app'].replace('NÃO', 0)\n",
    "\n",
    "dados['Elogio a Instituição'] = dados['Elogio a Instituição'].replace('SIM', 1)\n",
    "dados['Elogio a Instituição'] = dados['Elogio a Instituição'].replace('NÃO', 0)\n",
    "\n",
    "dados['Reclamação a Instituição'] = dados['Reclamação a Instituição'].replace('SIM', 1)\n",
    "dados['Reclamação a Instituição'] = dados['Reclamação a Instituição'].replace('NÃO', 0)\n",
    "\n",
    "dados['Não Classificável'] = dados['Não Classificável'].replace('SIM', 1)\n",
    "dados['Não Classificável'] = dados['Não Classificável'].replace('NÃO', 0)\n",
    "\n",
    "\n"
   ]
  },
  {
   "cell_type": "code",
   "execution_count": 78,
   "metadata": {},
   "outputs": [
    {
     "name": "stdout",
     "output_type": "stream",
     "text": [
      "<class 'pandas.core.frame.DataFrame'>\n",
      "RangeIndex: 8702 entries, 0 to 8701\n",
      "Data columns (total 9 columns):\n",
      " #   Column                    Non-Null Count  Dtype         \n",
      "---  ------                    --------------  -----         \n",
      " 0   Instituição               8702 non-null   object        \n",
      " 1   Comentario                8698 non-null   object        \n",
      " 2   Data                      8702 non-null   datetime64[ns]\n",
      " 3   Classificação             8702 non-null   int64         \n",
      " 4   Elogio quanto ao app      8702 non-null   int64         \n",
      " 5   Reclamação quanto ao app  8702 non-null   int64         \n",
      " 6   Elogio a Instituição      8702 non-null   int64         \n",
      " 7   Reclamação a Instituição  8702 non-null   int64         \n",
      " 8   Não Classificável         8702 non-null   int64         \n",
      "dtypes: datetime64[ns](1), int64(6), object(2)\n",
      "memory usage: 612.0+ KB\n"
     ]
    }
   ],
   "source": [
    "dados.info()\n",
    "\n",
    "#converter os dados para números\n",
    "\n",
    "dados['Elogio quanto ao app'] = dados['Elogio quanto ao app'].astype(int)\n",
    "dados['Reclamação quanto ao app'] = dados['Reclamação quanto ao app'].astype(int)\n",
    "dados['Elogio a Instituição'] = dados['Elogio a Instituição'].astype(int)\n",
    "dados['Reclamação a Instituição'] = dados['Reclamação a Instituição'].astype(int)\n",
    "dados['Não Classificável'] = dados['Não Classificável'].astype(int)\n"
   ]
  },
  {
   "cell_type": "code",
   "execution_count": 79,
   "metadata": {},
   "outputs": [],
   "source": [
    "#substituindo os dados\n",
    "dados['Classificação'] = dados['Classificação'].replace(2,-1)\n",
    "dados['Classificação'] = dados['Classificação'].replace(1,-1)\n",
    "dados['Classificação'] = dados['Classificação'].replace(5,1)\n",
    "dados['Classificação'] = dados['Classificação'].replace(4,1)\n",
    "dados['Classificação'] = dados['Classificação'].replace(3,0)\n",
    "\n"
   ]
  },
  {
   "cell_type": "code",
   "execution_count": 80,
   "metadata": {},
   "outputs": [
    {
     "data": {
      "text/plain": [
       "<Axes: xlabel='Instituição', ylabel='Classificação'>"
      ]
     },
     "execution_count": 80,
     "metadata": {},
     "output_type": "execute_result"
    },
    {
     "data": {
      "image/png": "[encoded data removed]",
      "text/plain": [
       "<Figure size 640x480 with 1 Axes>"
      ]
     },
     "metadata": {},
     "output_type": "display_data"
    }
   ],
   "source": [
    "#calcular a média  de classificação por instituição\n",
    "df_classificacao = dados.groupby(['Instituição'])['Classificação'].agg('mean').reset_index()\n",
    "df_classificacao['Classificação'] = df_classificacao['Classificação'] *100\n",
    "\n",
    "\n",
    "#criar Grafico\n",
    "sns.barplot(x= df_classificacao['Instituição'], y = df_classificacao['Classificação'])\n"
   ]
  },
  {
   "cell_type": "code",
   "execution_count": null,
   "metadata": {},
   "outputs": [],
   "source": []
  }
 ],
 "metadata": {
  "kernelspec": {
   "display_name": "Python 3",
   "language": "python",
   "name": "python3"
  },
  "language_info": {
   "codemirror_mode": {
    "name": "ipython",
    "version": 3
   },
   "file_extension": ".py",
   "mimetype": "text/x-python",
   "name": "python",
   "nbconvert_exporter": "python",
   "pygments_lexer": "ipython3",
   "version": "3.11.0"
  }
 },
 "nbformat": 4,
 "nbformat_minor": 2
}
