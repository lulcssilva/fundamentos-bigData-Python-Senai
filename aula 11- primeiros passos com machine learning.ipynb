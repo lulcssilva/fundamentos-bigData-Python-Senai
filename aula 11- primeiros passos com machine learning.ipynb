{
 "cells": [
  {
   "cell_type": "markdown",
   "metadata": {},
   "source": [
    "#### Scikit-learn - Datasets embutidos"
   ]
  },
  {
   "cell_type": "code",
   "execution_count": 17,
   "metadata": {},
   "outputs": [],
   "source": [
    "# carregar o dataset iris\n",
    "\n",
    "from sklearn.datasets import load_iris\n",
    "\n",
    "iris = load_iris(return_X_y=True)\n",
    "\n",
    "# len(iris)  informações: quantidade de dados\n"
   ]
  },
  {
   "cell_type": "markdown",
   "metadata": {},
   "source": [
    "#### Separar os dados em treino e teste"
   ]
  },
  {
   "cell_type": "code",
   "execution_count": 18,
   "metadata": {},
   "outputs": [],
   "source": [
    "#importar a biblioteca para separar os dados\n",
    "\n",
    "from sklearn.model_selection import train_test_split\n",
    "\n",
    "## separar os dados de X e Y \n",
    "\n",
    "X, y = iris\n",
    "\n",
    "len(X)\n",
    "\n",
    "### Fatiar os dados em treino e teste\n",
    "X_train, X_test, y_train, y_test =train_test_split(X,y, test_size=0.3)\n"
   ]
  },
  {
   "cell_type": "code",
   "execution_count": 19,
   "metadata": {},
   "outputs": [
    {
     "name": "stdout",
     "output_type": "stream",
     "text": [
      "dados de X para treinamento 105\n",
      "dados de Y para treinamento 105\n",
      "Dados de X para teste 45\n",
      "Dados de Y para teste 45\n"
     ]
    }
   ],
   "source": [
    "# tamanho dos dados de treino\n",
    "print('dados de X para treinamento', len(X_train))\n",
    "print('dados de Y para treinamento', len(y_train))\n",
    "\n",
    "# tamanho dos dados (amostras) para teste\n",
    "print('Dados de X para teste', len(X_test))\n",
    "print('Dados de Y para teste', len(y_test))\n",
    "\n"
   ]
  },
  {
   "cell_type": "markdown",
   "metadata": {},
   "source": []
  }
 ],
 "metadata": {
  "kernelspec": {
   "display_name": "Python 3",
   "language": "python",
   "name": "python3"
  },
  "language_info": {
   "codemirror_mode": {
    "name": "ipython",
    "version": 3
   },
   "file_extension": ".py",
   "mimetype": "text/x-python",
   "name": "python",
   "nbconvert_exporter": "python",
   "pygments_lexer": "ipython3",
   "version": "3.11.0"
  }
 },
 "nbformat": 4,
 "nbformat_minor": 2
}
