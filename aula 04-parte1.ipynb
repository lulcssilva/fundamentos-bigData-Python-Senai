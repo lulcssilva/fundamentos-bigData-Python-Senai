{
 "cells": [
  {
   "cell_type": "markdown",
   "metadata": {},
   "source": [
    "## Exercício 01 \n",
    "Crie uma lista com nomes de 4 times de futebol.\n",
    "\n",
    "a) Palmeiras\n",
    "\n",
    "b) São Paulo\n",
    "\n",
    "c) Santos\n",
    "\n",
    "d) Água Santa\n",
    "\n",
    "e) Acesse o time que está na 3a posição.\n"
   ]
  },
  {
   "cell_type": "code",
   "execution_count": 7,
   "metadata": {},
   "outputs": [
    {
     "data": {
      "text/plain": [
       "'Santos'"
      ]
     },
     "execution_count": 7,
     "metadata": {},
     "output_type": "execute_result"
    }
   ],
   "source": [
    "times = ['Palmeiras','São Paulo','Santos','Água Santa']\n",
    "times[2]\n"
   ]
  },
  {
   "cell_type": "markdown",
   "metadata": {},
   "source": [
    "f) Crie uma lista com duas listas de 3 times de futebol, cada uma de uma \n",
    "divisão diferente."
   ]
  },
  {
   "cell_type": "code",
   "execution_count": 12,
   "metadata": {},
   "outputs": [
    {
     "name": "stdout",
     "output_type": "stream",
     "text": [
      "[['São Caetano', 'Palmeiras', 'Coritiba', 'Sport'], ['Corinthians', 'Atlético MG', 'Santos', 'São Paulo']]\n",
      "Santos\n"
     ]
    }
   ],
   "source": [
    "times_A = ['São Caetano','Palmeiras','Coritiba','Sport']\n",
    "times_D = ['Corinthians','Atlético MG','Santos','São Paulo']\n",
    "lista_times = [times_A, times_D]\n",
    "print(lista_times)\n",
    "# time santos, está na 2ªlista- primeiro em relação a lista/sub lista\n",
    "print(lista_times[1][2])\n"
   ]
  },
  {
   "cell_type": "markdown",
   "metadata": {},
   "source": [
    "## Exercício 02 \n",
    "Crie uma lista com 3 diferentes moedas. Acrescente mais 2 \n",
    "outras moedas à essa mesma lista."
   ]
  },
  {
   "cell_type": "code",
   "execution_count": 21,
   "metadata": {},
   "outputs": [
    {
     "data": {
      "text/plain": [
       "['Euro', 'Real', 'Dólar', 'libra', 'peso']"
      ]
     },
     "execution_count": 21,
     "metadata": {},
     "output_type": "execute_result"
    }
   ],
   "source": [
    "moedas = ['Euro','Real','Dólar']\n",
    "# adicionando elementos ao final da lista lista.append(informacao)\n",
    "moedas.append('libra')\n",
    "moedas.append('peso')\n",
    "moedas\n"
   ]
  },
  {
   "cell_type": "code",
   "execution_count": 22,
   "metadata": {},
   "outputs": [
    {
     "name": "stdout",
     "output_type": "stream",
     "text": [
      "['Euro', 'Cruzeiro', 'Real', 'Dólar', 'libra', 'peso']\n"
     ]
    }
   ],
   "source": [
    "#adicionar um elemento à posição 1 da lista\n",
    "\n",
    "moedas.insert(1,'Cruzeiro')\n",
    "print(moedas)\n",
    "\n"
   ]
  },
  {
   "cell_type": "code",
   "execution_count": 24,
   "metadata": {},
   "outputs": [
    {
     "data": {
      "text/plain": [
       "['Euro', 'Real', 'Dólar', 'libra', 'peso']"
      ]
     },
     "execution_count": 24,
     "metadata": {},
     "output_type": "execute_result"
    }
   ],
   "source": [
    "#deletar uma moeda\n",
    "moedas.remove('Cruzeiro')\n",
    "moedas"
   ]
  },
  {
   "cell_type": "markdown",
   "metadata": {},
   "source": [
    "## Exercício 03\n",
    "Crie uma string com a lista do exercício anterior.\n"
   ]
  },
  {
   "cell_type": "code",
   "execution_count": 26,
   "metadata": {},
   "outputs": [
    {
     "name": "stdout",
     "output_type": "stream",
     "text": [
      "euro;real;dolar;libra;peso\n",
      "<class 'str'>\n"
     ]
    }
   ],
   "source": [
    "#Convertendo lista para string\n",
    "\n",
    "lista = ['euro','real','dolar','libra','peso']\n",
    "lista_convertida = ';'.join(lista)\n",
    "print(lista_convertida)\n",
    "print(type(lista_convertida))"
   ]
  },
  {
   "cell_type": "markdown",
   "metadata": {},
   "source": [
    "## Exercício 04\n",
    "Agora utilize a string do exercício 6 para recriar uma lista"
   ]
  },
  {
   "cell_type": "code",
   "execution_count": 29,
   "metadata": {},
   "outputs": [
    {
     "name": "stdout",
     "output_type": "stream",
     "text": [
      "['euro', 'real', 'dolar', 'libra', 'peso']\n",
      "<class 'list'>\n"
     ]
    }
   ],
   "source": [
    "#Convertendo string para lista\n",
    "lista = lista_convertida.split(\";\")\n",
    "print(lista)\n",
    "print(type(lista))"
   ]
  },
  {
   "cell_type": "markdown",
   "metadata": {},
   "source": [
    "## Exercício 05 \n",
    "Crie um dicionário chamado cardápio em que as chaves são os \n",
    "dias da semana e os respectivos valores sejam os pratos do dia.\n"
   ]
  },
  {
   "cell_type": "code",
   "execution_count": 38,
   "metadata": {},
   "outputs": [
    {
     "ename": "SyntaxError",
     "evalue": "invalid syntax. Perhaps you forgot a comma? (215665522.py, line 3)",
     "output_type": "error",
     "traceback": [
      "\u001b[1;36m  Cell \u001b[1;32mIn[38], line 3\u001b[1;36m\u001b[0m\n\u001b[1;33m    'segunda_feira' : [Frango Xadez]\u001b[0m\n\u001b[1;37m                       ^\u001b[0m\n\u001b[1;31mSyntaxError\u001b[0m\u001b[1;31m:\u001b[0m invalid syntax. Perhaps you forgot a comma?\n"
     ]
    }
   ],
   "source": [
    "pratos_dia = {\n",
    "\n",
    "    'segunda_feira' : [Frango Xadez]\n",
    "    'terça_feira' : [Almôndega]\n",
    "    'quarta_feira' : [Feijoada]\n",
    "    'quinta_feira' : [Arroz de Forno]\n",
    "    'sexta_feira' : [Tutu de Feijão]\n",
    "}\n",
    "pratos_dia['segunda_feira']"
   ]
  }
 ],
 "metadata": {
  "kernelspec": {
   "display_name": "Python 3",
   "language": "python",
   "name": "python3"
  },
  "language_info": {
   "codemirror_mode": {
    "name": "ipython",
    "version": 3
   },
   "file_extension": ".py",
   "mimetype": "text/x-python",
   "name": "python",
   "nbconvert_exporter": "python",
   "pygments_lexer": "ipython3",
   "version": "3.11.0"
  }
 },
 "nbformat": 4,
 "nbformat_minor": 2
}
