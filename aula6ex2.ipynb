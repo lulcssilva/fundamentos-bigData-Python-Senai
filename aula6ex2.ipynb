{
 "cells": [
  {
   "cell_type": "markdown",
   "metadata": {},
   "source": [
    "##### Exercício 02 - lista 05\n",
    "##### Aula 06"
   ]
  },
  {
   "cell_type": "code",
   "execution_count": null,
   "metadata": {},
   "outputs": [],
   "source": [
    "!pip list\n",
    "!pip install pandas"
   ]
  },
  {
   "cell_type": "code",
   "execution_count": 2,
   "metadata": {},
   "outputs": [],
   "source": [
    "import pandas as pd\n",
    "#mapear o caminho\n",
    "path = \"C:\\\\\\\\Users\\\\\\\\FIC\\\\\\\\Documents\\\\\\\\luana-cristina-python\\\\\\\\imobiliaria.xlsx\"\n",
    "# colocar em um DataFrame\n",
    "df = pd.read_excel(path)\n",
    "#verificando o cabeçalho\n",
    "df.head()\n",
    "#verificando o final da tabela\n",
    "df.tail()\n",
    "#informações da coluna\n",
    "df.info()"
   ]
  },
  {
   "cell_type": "code",
   "execution_count": null,
   "metadata": {},
   "outputs": [],
   "source": [
    "# renomear as variáveis\n",
    "df = df.rename(columns={\n",
    "    'Coluna 1': 'Filial',\n",
    "    'Coluna 2': 'Vendedor',\n",
    "    'Coluna 3': 'Data',\n",
    "    'Coluna 4':'Tipo',\n",
    "    'Coluna 5':'Área(m²)',\n",
    "    'Coluna 6':'Dorms',\n",
    "    'Coluna 7':'Garag',\n",
    "    'Coluna 8':'Piscina',\n",
    "    'Coluna 9':'Preço',\n",
    "    'Coluna 10':'Comissão'\n",
    "\n",
    "})"
   ]
  },
  {
   "cell_type": "code",
   "execution_count": null,
   "metadata": {},
   "outputs": [],
   "source": [
    "#renomear as variáveis\n",
    "headers =[\n",
    "    'Filial','Vendedor','Data','Tipo','Área(m²)','Dorms','Garag',\n",
    "    'Piscina','Preço','Comissão'\n",
    "    ]\n",
    "# renomeando as colunas\n",
    "df.columns = (headers)\n",
    "df.head(1)"
   ]
  },
  {
   "cell_type": "markdown",
   "metadata": {},
   "source": [
    "##### 5. Quais os tipos de dados que temos no dataFrame?"
   ]
  },
  {
   "cell_type": "code",
   "execution_count": null,
   "metadata": {},
   "outputs": [],
   "source": [
    "df.info()"
   ]
  },
  {
   "cell_type": "markdown",
   "metadata": {},
   "source": [
    "###### 7"
   ]
  },
  {
   "cell_type": "code",
   "execution_count": null,
   "metadata": {},
   "outputs": [],
   "source": [
    "#calculando a soma da coluna preço\n",
    "df['preco'].sum()"
   ]
  },
  {
   "cell_type": "code",
   "execution_count": null,
   "metadata": {},
   "outputs": [],
   "source": [
    "#Calculando a média da coluna preço\n",
    "df['preco'].mean()"
   ]
  },
  {
   "cell_type": "code",
   "execution_count": null,
   "metadata": {},
   "outputs": [],
   "source": [
    "# Encontrar o maior valor da coluna preço\n",
    "df['preco'].max()"
   ]
  },
  {
   "cell_type": "code",
   "execution_count": null,
   "metadata": {},
   "outputs": [],
   "source": [
    "# encontrar o menor valor da coluna preço\n",
    "df['preco'].min()"
   ]
  },
  {
   "cell_type": "code",
   "execution_count": null,
   "metadata": {},
   "outputs": [],
   "source": [
    "# Calcular a quantidade de elementos\n",
    "df['preco'].count()"
   ]
  },
  {
   "cell_type": "code",
   "execution_count": 4,
   "metadata": {},
   "outputs": [],
   "source": [
    "# 8. Crie um programa para criar um dataframe para mostrar as vendas por região, e salvar um arquivo em Excel para cada região.\n",
    "\n",
    "#Gerar o relatório\n",
    "#filtrar os dadps\n",
    "df_final = df[df['filial'] == 'Centro']\n",
    "\n",
    "#Mapear o caminho final e definir um nome para o arquivo\n",
    "caminho = 'C:\\\\Users\\\\FIC\\\\Documents\\\\luana-cristina-python\\\\relatorios-filiais\\\\'\n",
    "arquivo = 'centro.xlsx'\n",
    "\n",
    "#salvar o arquivo na pasta\n",
    "df_final.to_excel(caminho+arquivo)"
   ]
  }
 ],
 "metadata": {
  "kernelspec": {
   "display_name": "Python 3",
   "language": "python",
   "name": "python3"
  },
  "language_info": {
   "codemirror_mode": {
    "name": "ipython",
    "version": 3
   },
   "file_extension": ".py",
   "mimetype": "text/x-python",
   "name": "python",
   "nbconvert_exporter": "python",
   "pygments_lexer": "ipython3",
   "version": "3.11.0"
  }
 },
 "nbformat": 4,
 "nbformat_minor": 2
}
